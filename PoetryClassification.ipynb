{
 "cells": [
  {
   "cell_type": "code",
   "execution_count": 1,
   "id": "8127cecc",
   "metadata": {},
   "outputs": [],
   "source": [
    "import pandas as pd\n",
    "import numpy as np\n",
    "import matplotlib.pyplot as plt\n",
    "import seaborn as sns\n",
    "\n",
    "from sklearn.model_selection import train_test_split\n",
    "\n",
    "import re\n",
    "import nltk\n",
    "from nltk.corpus import stopwords\n",
    "\n",
    "import tensorflow as tf\n",
    "from tensorflow import keras\n",
    "from tensorflow.keras import layers\n",
    "\n",
    "\n",
    "from sklearn.metrics import confusion_matrix\n",
    "\n",
    "from tensorflow.keras import datasets\n",
    "\n",
    "from keras.datasets import imdb\n",
    "from keras.preprocessing.sequence import pad_sequences "
   ]
  },
  {
   "cell_type": "code",
   "execution_count": 2,
   "id": "a771f303",
   "metadata": {},
   "outputs": [
    {
     "data": {
      "text/html": [
       "<div>\n",
       "<style scoped>\n",
       "    .dataframe tbody tr th:only-of-type {\n",
       "        vertical-align: middle;\n",
       "    }\n",
       "\n",
       "    .dataframe tbody tr th {\n",
       "        vertical-align: top;\n",
       "    }\n",
       "\n",
       "    .dataframe thead th {\n",
       "        text-align: right;\n",
       "    }\n",
       "</style>\n",
       "<table border=\"1\" class=\"dataframe\">\n",
       "  <thead>\n",
       "    <tr style=\"text-align: right;\">\n",
       "      <th></th>\n",
       "      <th>0</th>\n",
       "      <th>1</th>\n",
       "      <th>2</th>\n",
       "      <th>3</th>\n",
       "      <th>4</th>\n",
       "      <th>5</th>\n",
       "      <th>6</th>\n",
       "      <th>7</th>\n",
       "      <th>8</th>\n",
       "      <th>9</th>\n",
       "      <th>...</th>\n",
       "      <th>55</th>\n",
       "      <th>56</th>\n",
       "      <th>57</th>\n",
       "      <th>58</th>\n",
       "      <th>59</th>\n",
       "      <th>60</th>\n",
       "      <th>61</th>\n",
       "      <th>62</th>\n",
       "      <th>63</th>\n",
       "      <th>Word</th>\n",
       "    </tr>\n",
       "  </thead>\n",
       "  <tbody>\n",
       "    <tr>\n",
       "      <th>0</th>\n",
       "      <td>-0.043112</td>\n",
       "      <td>-0.044180</td>\n",
       "      <td>-0.000702</td>\n",
       "      <td>0.010770</td>\n",
       "      <td>0.002801</td>\n",
       "      <td>0.002144</td>\n",
       "      <td>-0.016408</td>\n",
       "      <td>0.041084</td>\n",
       "      <td>-0.019775</td>\n",
       "      <td>-0.014173</td>\n",
       "      <td>...</td>\n",
       "      <td>-0.040594</td>\n",
       "      <td>-0.017918</td>\n",
       "      <td>-0.039003</td>\n",
       "      <td>0.019360</td>\n",
       "      <td>0.000069</td>\n",
       "      <td>0.049965</td>\n",
       "      <td>0.008555</td>\n",
       "      <td>0.031493</td>\n",
       "      <td>-0.029020</td>\n",
       "      <td>[PAD]</td>\n",
       "    </tr>\n",
       "    <tr>\n",
       "      <th>1</th>\n",
       "      <td>0.077637</td>\n",
       "      <td>-0.139258</td>\n",
       "      <td>-0.120176</td>\n",
       "      <td>-0.225333</td>\n",
       "      <td>0.018501</td>\n",
       "      <td>-0.134275</td>\n",
       "      <td>-0.049474</td>\n",
       "      <td>0.202666</td>\n",
       "      <td>0.035748</td>\n",
       "      <td>-0.303752</td>\n",
       "      <td>...</td>\n",
       "      <td>0.259259</td>\n",
       "      <td>0.477063</td>\n",
       "      <td>0.053305</td>\n",
       "      <td>0.264979</td>\n",
       "      <td>0.089871</td>\n",
       "      <td>0.121198</td>\n",
       "      <td>0.185777</td>\n",
       "      <td>0.147721</td>\n",
       "      <td>-0.103953</td>\n",
       "      <td>[UNK]</td>\n",
       "    </tr>\n",
       "    <tr>\n",
       "      <th>2</th>\n",
       "      <td>0.219406</td>\n",
       "      <td>0.014036</td>\n",
       "      <td>-0.004812</td>\n",
       "      <td>0.071541</td>\n",
       "      <td>0.091325</td>\n",
       "      <td>0.143101</td>\n",
       "      <td>-0.196247</td>\n",
       "      <td>0.216164</td>\n",
       "      <td>-0.321792</td>\n",
       "      <td>0.038685</td>\n",
       "      <td>...</td>\n",
       "      <td>-0.066000</td>\n",
       "      <td>-0.027182</td>\n",
       "      <td>-0.275846</td>\n",
       "      <td>-0.167044</td>\n",
       "      <td>0.505876</td>\n",
       "      <td>-0.283258</td>\n",
       "      <td>-0.102449</td>\n",
       "      <td>0.117133</td>\n",
       "      <td>0.195757</td>\n",
       "      <td>the</td>\n",
       "    </tr>\n",
       "    <tr>\n",
       "      <th>3</th>\n",
       "      <td>-0.036935</td>\n",
       "      <td>0.107469</td>\n",
       "      <td>-0.263067</td>\n",
       "      <td>-0.097306</td>\n",
       "      <td>-0.095095</td>\n",
       "      <td>0.162527</td>\n",
       "      <td>-0.217829</td>\n",
       "      <td>-0.035648</td>\n",
       "      <td>-0.067412</td>\n",
       "      <td>0.050026</td>\n",
       "      <td>...</td>\n",
       "      <td>0.248766</td>\n",
       "      <td>-0.056456</td>\n",
       "      <td>0.161341</td>\n",
       "      <td>-0.124493</td>\n",
       "      <td>0.031764</td>\n",
       "      <td>0.254419</td>\n",
       "      <td>0.146425</td>\n",
       "      <td>-0.022498</td>\n",
       "      <td>0.297895</td>\n",
       "      <td>and</td>\n",
       "    </tr>\n",
       "    <tr>\n",
       "      <th>4</th>\n",
       "      <td>0.382986</td>\n",
       "      <td>0.268528</td>\n",
       "      <td>-0.235734</td>\n",
       "      <td>-0.511373</td>\n",
       "      <td>0.064016</td>\n",
       "      <td>-0.493871</td>\n",
       "      <td>0.395889</td>\n",
       "      <td>-0.121680</td>\n",
       "      <td>0.298298</td>\n",
       "      <td>0.083211</td>\n",
       "      <td>...</td>\n",
       "      <td>0.443925</td>\n",
       "      <td>0.103798</td>\n",
       "      <td>-0.332466</td>\n",
       "      <td>-0.046445</td>\n",
       "      <td>-0.231823</td>\n",
       "      <td>0.409594</td>\n",
       "      <td>0.596419</td>\n",
       "      <td>0.446775</td>\n",
       "      <td>-0.263178</td>\n",
       "      <td>of</td>\n",
       "    </tr>\n",
       "  </tbody>\n",
       "</table>\n",
       "<p>5 rows × 65 columns</p>\n",
       "</div>"
      ],
      "text/plain": [
       "          0         1         2         3         4         5         6  \\\n",
       "0 -0.043112 -0.044180 -0.000702  0.010770  0.002801  0.002144 -0.016408   \n",
       "1  0.077637 -0.139258 -0.120176 -0.225333  0.018501 -0.134275 -0.049474   \n",
       "2  0.219406  0.014036 -0.004812  0.071541  0.091325  0.143101 -0.196247   \n",
       "3 -0.036935  0.107469 -0.263067 -0.097306 -0.095095  0.162527 -0.217829   \n",
       "4  0.382986  0.268528 -0.235734 -0.511373  0.064016 -0.493871  0.395889   \n",
       "\n",
       "          7         8         9  ...        55        56        57        58  \\\n",
       "0  0.041084 -0.019775 -0.014173  ... -0.040594 -0.017918 -0.039003  0.019360   \n",
       "1  0.202666  0.035748 -0.303752  ...  0.259259  0.477063  0.053305  0.264979   \n",
       "2  0.216164 -0.321792  0.038685  ... -0.066000 -0.027182 -0.275846 -0.167044   \n",
       "3 -0.035648 -0.067412  0.050026  ...  0.248766 -0.056456  0.161341 -0.124493   \n",
       "4 -0.121680  0.298298  0.083211  ...  0.443925  0.103798 -0.332466 -0.046445   \n",
       "\n",
       "         59        60        61        62        63   Word  \n",
       "0  0.000069  0.049965  0.008555  0.031493 -0.029020  [PAD]  \n",
       "1  0.089871  0.121198  0.185777  0.147721 -0.103953  [UNK]  \n",
       "2  0.505876 -0.283258 -0.102449  0.117133  0.195757    the  \n",
       "3  0.031764  0.254419  0.146425 -0.022498  0.297895    and  \n",
       "4 -0.231823  0.409594  0.596419  0.446775 -0.263178     of  \n",
       "\n",
       "[5 rows x 65 columns]"
      ]
     },
     "execution_count": 2,
     "metadata": {},
     "output_type": "execute_result"
    }
   ],
   "source": [
    "word_embeddings = pd.read_csv('WordEmbeddings_TF_64.csv')\n",
    "word_embeddings.head()"
   ]
  },
  {
   "cell_type": "code",
   "execution_count": 3,
   "id": "0fbec354",
   "metadata": {},
   "outputs": [
    {
     "data": {
      "text/html": [
       "<div>\n",
       "<style scoped>\n",
       "    .dataframe tbody tr th:only-of-type {\n",
       "        vertical-align: middle;\n",
       "    }\n",
       "\n",
       "    .dataframe tbody tr th {\n",
       "        vertical-align: top;\n",
       "    }\n",
       "\n",
       "    .dataframe thead th {\n",
       "        text-align: right;\n",
       "    }\n",
       "</style>\n",
       "<table border=\"1\" class=\"dataframe\">\n",
       "  <thead>\n",
       "    <tr style=\"text-align: right;\">\n",
       "      <th></th>\n",
       "      <th>author</th>\n",
       "      <th>content</th>\n",
       "      <th>poem name</th>\n",
       "      <th>age</th>\n",
       "      <th>type</th>\n",
       "    </tr>\n",
       "  </thead>\n",
       "  <tbody>\n",
       "    <tr>\n",
       "      <th>0</th>\n",
       "      <td>WILLIAM SHAKESPEARE</td>\n",
       "      <td>Let the bird of loudest lay\\r\\nOn the sole Ara...</td>\n",
       "      <td>The Phoenix and the Turtle</td>\n",
       "      <td>Renaissance</td>\n",
       "      <td>Mythology &amp; Folklore</td>\n",
       "    </tr>\n",
       "    <tr>\n",
       "      <th>1</th>\n",
       "      <td>DUCHESS OF NEWCASTLE MARGARET CAVENDISH</td>\n",
       "      <td>Sir Charles into my chamber coming in,\\r\\nWhen...</td>\n",
       "      <td>An Epilogue to the Above</td>\n",
       "      <td>Renaissance</td>\n",
       "      <td>Mythology &amp; Folklore</td>\n",
       "    </tr>\n",
       "    <tr>\n",
       "      <th>2</th>\n",
       "      <td>THOMAS BASTARD</td>\n",
       "      <td>Our vice runs beyond all that old men saw,\\r\\n...</td>\n",
       "      <td>Book 7, Epigram 42</td>\n",
       "      <td>Renaissance</td>\n",
       "      <td>Mythology &amp; Folklore</td>\n",
       "    </tr>\n",
       "    <tr>\n",
       "      <th>3</th>\n",
       "      <td>EDMUND SPENSER</td>\n",
       "      <td>Lo I the man, whose Muse whilome did maske,\\r\\...</td>\n",
       "      <td>from The Faerie Queene: Book I, Canto I</td>\n",
       "      <td>Renaissance</td>\n",
       "      <td>Mythology &amp; Folklore</td>\n",
       "    </tr>\n",
       "    <tr>\n",
       "      <th>4</th>\n",
       "      <td>RICHARD BARNFIELD</td>\n",
       "      <td>Long have I longd to see my love againe,\\r\\nSt...</td>\n",
       "      <td>Sonnet 16</td>\n",
       "      <td>Renaissance</td>\n",
       "      <td>Mythology &amp; Folklore</td>\n",
       "    </tr>\n",
       "  </tbody>\n",
       "</table>\n",
       "</div>"
      ],
      "text/plain": [
       "                                    author  \\\n",
       "0                      WILLIAM SHAKESPEARE   \n",
       "1  DUCHESS OF NEWCASTLE MARGARET CAVENDISH   \n",
       "2                           THOMAS BASTARD   \n",
       "3                           EDMUND SPENSER   \n",
       "4                        RICHARD BARNFIELD   \n",
       "\n",
       "                                             content  \\\n",
       "0  Let the bird of loudest lay\\r\\nOn the sole Ara...   \n",
       "1  Sir Charles into my chamber coming in,\\r\\nWhen...   \n",
       "2  Our vice runs beyond all that old men saw,\\r\\n...   \n",
       "3  Lo I the man, whose Muse whilome did maske,\\r\\...   \n",
       "4  Long have I longd to see my love againe,\\r\\nSt...   \n",
       "\n",
       "                                 poem name          age                  type  \n",
       "0               The Phoenix and the Turtle  Renaissance  Mythology & Folklore  \n",
       "1                 An Epilogue to the Above  Renaissance  Mythology & Folklore  \n",
       "2                       Book 7, Epigram 42  Renaissance  Mythology & Folklore  \n",
       "3  from The Faerie Queene: Book I, Canto I  Renaissance  Mythology & Folklore  \n",
       "4                                Sonnet 16  Renaissance  Mythology & Folklore  "
      ]
     },
     "execution_count": 3,
     "metadata": {},
     "output_type": "execute_result"
    }
   ],
   "source": [
    "df = pd.read_csv('Poems_Author_Age.csv')\n",
    "df.head()"
   ]
  },
  {
   "cell_type": "code",
   "execution_count": 4,
   "id": "8ac40b11",
   "metadata": {},
   "outputs": [
    {
     "data": {
      "text/plain": [
       "(4838, 5)"
      ]
     },
     "execution_count": 4,
     "metadata": {},
     "output_type": "execute_result"
    }
   ],
   "source": [
    "df.shape"
   ]
  },
  {
   "cell_type": "code",
   "execution_count": 4,
   "id": "27461697",
   "metadata": {},
   "outputs": [
    {
     "data": {
      "text/plain": [
       "<Axes: xlabel='age', ylabel='count'>"
      ]
     },
     "execution_count": 4,
     "metadata": {},
     "output_type": "execute_result"
    },
    {
     "data": {
      "image/png": "[encoded data removed]",
      "text/plain": [
       "<Figure size 640x480 with 1 Axes>"
      ]
     },
     "metadata": {},
     "output_type": "display_data"
    }
   ],
   "source": [
    "sns.countplot(df, x = 'age')"
   ]
  },
  {
   "cell_type": "code",
   "execution_count": 5,
   "id": "10ea2ee9",
   "metadata": {},
   "outputs": [
    {
     "data": {
      "text/plain": [
       "Modern         0.685407\n",
       "Renaissance    0.314593\n",
       "Name: age, dtype: float64"
      ]
     },
     "execution_count": 5,
     "metadata": {},
     "output_type": "execute_result"
    }
   ],
   "source": [
    "df['age'].value_counts(normalize = True)"
   ]
  },
  {
   "cell_type": "code",
   "execution_count": 6,
   "id": "87e1055e",
   "metadata": {},
   "outputs": [],
   "source": [
    "texts = list(df['content'])"
   ]
  },
  {
   "cell_type": "code",
   "execution_count": 7,
   "id": "50db3b46",
   "metadata": {},
   "outputs": [
    {
     "data": {
      "text/plain": [
       "15000"
      ]
     },
     "execution_count": 7,
     "metadata": {},
     "output_type": "execute_result"
    }
   ],
   "source": [
    "unique_words = list(word_embeddings['Word'])\n",
    "len(unique_words)"
   ]
  },
  {
   "cell_type": "code",
   "execution_count": 8,
   "id": "39117a5f",
   "metadata": {},
   "outputs": [],
   "source": [
    "from nltk.stem import PorterStemmer\n",
    "\n",
    "ps = PorterStemmer()\n",
    "\n",
    "def preprocess(text):\n",
    "    text = text.lower().replace('NEWLINE',' ')\n",
    "    text = text.replace('\\r',' ')\n",
    "    text = text.replace('\\n',' ')\n",
    "    text = re.sub('[\\W\\d_]+', ' ', text)\n",
    "    text = re.sub(' +', ' ', text)\n",
    "    words = text.split(' ')\n",
    "    words = [ps.stem(word) if ps.stem(word) in unique_words else '[UNK]' for word in words]\n",
    "    text = ' '.join(words)\n",
    "    return text\n",
    "    "
   ]
  },
  {
   "cell_type": "code",
   "execution_count": 9,
   "id": "400ffba6",
   "metadata": {},
   "outputs": [
    {
     "name": "stdout",
     "output_type": "stream",
     "text": [
      "Let the bird of loudest lay\r\n",
      "On the sole Arabian tree\r\n",
      "Herald sad and trumpet be,\r\n",
      "To whose sound chaste wings obey.\r\n",
      "\r\n",
      "But thou shrieking harbinger,\r\n",
      "Foul precurrer of the fiend,\r\n",
      "Augur of the fever's end,\r\n",
      "To this troop come thou not near.\r\n",
      "\r\n",
      "From this session interdict\r\n",
      "Every fowl of tyrant wing,\r\n",
      "Save the eagle, feather'd king;\r\n",
      "Keep the obsequy so strict.\r\n",
      "\r\n",
      "Let the priest in surplice white,\r\n",
      "That defunctive music can,\r\n",
      "Be the death-divining swan,\r\n",
      "Lest the requiem lack his right.\r\n",
      "\r\n",
      "And thou treble-dated crow,\r\n",
      "That thy sable gender mak'st\r\n",
      "With the breath thou giv'st and tak'st,\r\n",
      "'Mongst our mourners shalt thou go.\r\n",
      "\r\n",
      "Here the anthem doth commence:\r\n",
      "Love and constancy is dead;\r\n",
      "Phoenix and the Turtle fled\r\n",
      "In a mutual flame from hence.\r\n",
      "\r\n",
      "So they lov'd, as love in twain\r\n",
      "Had the essence but in one;\r\n",
      "Two distincts, division none:\r\n",
      "Number there in love was slain.\r\n",
      "\r\n",
      "Hearts remote, yet not asunder;\r\n",
      "Distance and no space was seen\r\n",
      "'Twixt this Turtle and his queen:\r\n",
      "But in them it were a wonder.\r\n",
      "\r\n",
      "So between them love did shine\r\n",
      "That the Turtle saw his right\r\n",
      "Flaming in the Phoenix' sight:\r\n",
      "Either was the other's mine.\r\n",
      "\r\n",
      "Property was thus appalled\r\n",
      "That the self was not the same;\r\n",
      "Single nature's double name\r\n",
      "Neither two nor one was called.\r\n",
      "\r\n",
      "Reason, in itself confounded,\r\n",
      "Saw division grow together,\r\n",
      "To themselves yet either neither,\r\n",
      "Simple were so well compounded;\r\n",
      "\r\n",
      "That it cried, \"How true a twain\r\n",
      "Seemeth this concordant one!\r\n",
      "Love has reason, reason none,\r\n",
      "If what parts can so remain.\"\r\n",
      "\r\n",
      "Whereupon it made this threne\r\n",
      "To the Phoenix and the Dove,\r\n",
      "Co-supremes and stars of love,\r\n",
      "As chorus to their tragic scene:\r\n",
      "\r\n",
      "                 threnos\r\n",
      "\r\n",
      "Beauty, truth, and rarity,\r\n",
      "Grace in all simplicity,\r\n",
      "Here enclos'd, in cinders lie.\r\n",
      "\r\n",
      "Death is now the Phoenix' nest,\r\n",
      "And the Turtle's loyal breast\r\n",
      "To eternity doth rest,\r\n",
      "\r\n",
      "Leaving no posterity:\r\n",
      "'Twas not their infirmity,\r\n",
      "It was married chastity.\r\n",
      "\r\n",
      "Truth may seem but cannot be;\r\n",
      "Beauty brag but 'tis not she;\r\n",
      "Truth and beauty buried be.\r\n",
      "\r\n",
      "To this urn let those repair\r\n",
      "That are either true or fair;\r\n",
      "For these dead birds sigh a prayer.\n"
     ]
    }
   ],
   "source": [
    "print(texts[0])"
   ]
  },
  {
   "cell_type": "code",
   "execution_count": 10,
   "id": "af744c1f",
   "metadata": {},
   "outputs": [
    {
     "data": {
      "text/plain": [
       "'let the bird of loudest lay on the sole arabian tree herald sad and trumpet be to whose sound chast wing obey but thou shriek harbing foul [UNK] of the fiend augur of the fever s end to thi troop come thou not near from thi session [UNK] everi fowl of tyrant wing save the eagl feather d king keep the [UNK] so strict let the priest in [UNK] white that defunct music can be the death divin swan lest the requiem lack hi right and thou trebl date crow that thi sabl gender mak st with the breath thou giv st and tak st mongst our mourner shalt thou go here the anthem doth commenc love and constanc is dead phoenix and the turtl fled in a mutual flame from henc so they lov d as love in twain had the essenc but in one two distinct divis none number there in love wa slain heart remot yet not asund distanc and no space wa seen twixt thi turtl and hi queen but in them it were a wonder so between them love did shine that the turtl saw hi right flame in the phoenix sight either wa the other s mine properti wa thu appal that the self wa not the same singl natur s doubl name neither two nor one wa call reason in itself confound saw divis grow togeth to themselv yet either neither simpl were so well compound that it cri how true a twain seemeth thi concord one love ha reason reason none if what part can so remain whereupon it made thi [UNK] to the phoenix and the dove co suprem and star of love as choru to their tragic scene [UNK] beauti truth and rariti grace in all simplic here [UNK] d in cinder lie death is now the phoenix nest and the turtl s loyal breast to etern doth rest leav no poster twa not their infirm it wa marri chastiti truth may seem but cannot be beauti brag but ti not she truth and beauti buri be to thi urn let those repair that are either true or fair for these dead bird sigh a prayer [UNK]'"
      ]
     },
     "execution_count": 10,
     "metadata": {},
     "output_type": "execute_result"
    }
   ],
   "source": [
    "preprocess(texts[0])"
   ]
  },
  {
   "cell_type": "code",
   "execution_count": 11,
   "id": "4e9fe24d",
   "metadata": {},
   "outputs": [],
   "source": [
    "word_dict = {}\n",
    "i = 0\n",
    "for word in unique_words:\n",
    "    word_dict[word] = i\n",
    "    i = i+1"
   ]
  },
  {
   "cell_type": "code",
   "execution_count": 12,
   "id": "c698576c",
   "metadata": {},
   "outputs": [
    {
     "data": {
      "text/plain": [
       "{'[PAD]': 0,\n",
       " '[UNK]': 1,\n",
       " 'the': 2,\n",
       " 'and': 3,\n",
       " 'of': 4,\n",
       " 'a': 5,\n",
       " 'to': 6,\n",
       " 'i': 7,\n",
       " 'in': 8,\n",
       " 'it': 9,\n",
       " 'is': 10,\n",
       " 'that': 11,\n",
       " 'you': 12,\n",
       " 'my': 13,\n",
       " 'with': 14,\n",
       " 'not': 15,\n",
       " 'on': 16,\n",
       " 'for': 17,\n",
       " 'as': 18,\n",
       " 'hi': 19,\n",
       " 'he': 20,\n",
       " 'we': 21,\n",
       " 'wa': 22,\n",
       " 'from': 23,\n",
       " 'thi': 24,\n",
       " 'but': 25,\n",
       " 'me': 26,\n",
       " 'all': 27,\n",
       " 'like': 28,\n",
       " 'at': 29,\n",
       " 'be': 30,\n",
       " 'her': 31,\n",
       " 'are': 32,\n",
       " 'they': 33,\n",
       " 'or': 34,\n",
       " 'have': 35,\n",
       " 'your': 36,\n",
       " 'one': 37,\n",
       " 'what': 38,\n",
       " 'by': 39,\n",
       " 'will': 40,\n",
       " 'when': 41,\n",
       " 'their': 42,\n",
       " 'she': 43,\n",
       " 'so': 44,\n",
       " 'no': 45,\n",
       " 'there': 46,\n",
       " 'our': 47,\n",
       " 'who': 48,\n",
       " 'out': 49,\n",
       " 'do': 50,\n",
       " 'would': 51,\n",
       " 'if': 52,\n",
       " 'an': 53,\n",
       " 'into': 54,\n",
       " 'love': 55,\n",
       " 'up': 56,\n",
       " 'where': 57,\n",
       " 'then': 58,\n",
       " 'now': 59,\n",
       " 'were': 60,\n",
       " 'am': 61,\n",
       " 'them': 62,\n",
       " 'us': 63,\n",
       " 'how': 64,\n",
       " 'day': 65,\n",
       " 'know': 66,\n",
       " 'him': 67,\n",
       " 'say': 68,\n",
       " 'had': 69,\n",
       " 'time': 70,\n",
       " 'which': 71,\n",
       " 'down': 72,\n",
       " 'can': 73,\n",
       " 'through': 74,\n",
       " 'come': 75,\n",
       " 'eye': 76,\n",
       " 'see': 77,\n",
       " 'over': 78,\n",
       " 'hand': 79,\n",
       " 'more': 80,\n",
       " 'light': 81,\n",
       " 'could': 82,\n",
       " 'night': 83,\n",
       " 'back': 84,\n",
       " 'man': 85,\n",
       " 'look': 86,\n",
       " 'still': 87,\n",
       " 'make': 88,\n",
       " 'go': 89,\n",
       " 'some': 90,\n",
       " 'here': 91,\n",
       " 'did': 92,\n",
       " 'way': 93,\n",
       " 'never': 94,\n",
       " 'long': 95,\n",
       " 'ha': 96,\n",
       " 'life': 97,\n",
       " 'other': 98,\n",
       " 'onli': 99,\n",
       " 'thing': 100,\n",
       " 'live': 101,\n",
       " 'even': 102,\n",
       " 'heart': 103,\n",
       " 'each': 104,\n",
       " 'world': 105,\n",
       " 'old': 106,\n",
       " 'want': 107,\n",
       " 'said': 108,\n",
       " 'about': 109,\n",
       " 'face': 110,\n",
       " 'too': 111,\n",
       " 'than': 112,\n",
       " 'god': 113,\n",
       " 'let': 114,\n",
       " 'bodi': 115,\n",
       " 'just': 116,\n",
       " 'befor': 117,\n",
       " 'white': 118,\n",
       " 'dark': 119,\n",
       " 'water': 120,\n",
       " 'think': 121,\n",
       " 'year': 122,\n",
       " 'littl': 123,\n",
       " 'turn': 124,\n",
       " 'tree': 125,\n",
       " 'word': 126,\n",
       " 'take': 127,\n",
       " 'call': 128,\n",
       " 'again': 129,\n",
       " 'black': 130,\n",
       " 'leav': 131,\n",
       " 'these': 132,\n",
       " 'made': 133,\n",
       " 'away': 134,\n",
       " 'yet': 135,\n",
       " 'head': 136,\n",
       " 'first': 137,\n",
       " 'own': 138,\n",
       " 'been': 139,\n",
       " 'mother': 140,\n",
       " 'after': 141,\n",
       " 'those': 142,\n",
       " 'name': 143,\n",
       " 'while': 144,\n",
       " 'sun': 145,\n",
       " 'everi': 146,\n",
       " 'though': 147,\n",
       " 'wind': 148,\n",
       " 'becaus': 149,\n",
       " 'thought': 150,\n",
       " 'off': 151,\n",
       " 'die': 152,\n",
       " 'two': 153,\n",
       " 'last': 154,\n",
       " 'dream': 155,\n",
       " 'men': 156,\n",
       " 'cannot': 157,\n",
       " 'place': 158,\n",
       " 'onc': 159,\n",
       " 'new': 160,\n",
       " 'noth': 161,\n",
       " 'dead': 162,\n",
       " 'sky': 163,\n",
       " 'air': 164,\n",
       " 'may': 165,\n",
       " 'good': 166,\n",
       " 'tell': 167,\n",
       " 'must': 168,\n",
       " 'thou': 169,\n",
       " 'earth': 170,\n",
       " 'shall': 171,\n",
       " 'sea': 172,\n",
       " 'walk': 173,\n",
       " 'open': 174,\n",
       " 'get': 175,\n",
       " 'death': 176,\n",
       " 'amp': 177,\n",
       " 'hous': 178,\n",
       " 'feel': 179,\n",
       " 'blue': 180,\n",
       " 'under': 181,\n",
       " 'home': 182,\n",
       " 'left': 183,\n",
       " 'end': 184,\n",
       " 'mani': 185,\n",
       " 'o': 186,\n",
       " 'fall': 187,\n",
       " 'without': 188,\n",
       " 'nor': 189,\n",
       " 'father': 190,\n",
       " 'hear': 191,\n",
       " 'upon': 192,\n",
       " 'anoth': 193,\n",
       " 'sleep': 194,\n",
       " 'beauti': 195,\n",
       " 'give': 196,\n",
       " 'much': 197,\n",
       " 'such': 198,\n",
       " 'peopl': 199,\n",
       " 'find': 200,\n",
       " 'around': 201,\n",
       " 'stand': 202,\n",
       " 'well': 203,\n",
       " 'work': 204,\n",
       " 'breath': 205,\n",
       " 'someth': 206,\n",
       " 'alway': 207,\n",
       " 'green': 208,\n",
       " 'soul': 209,\n",
       " 'doe': 210,\n",
       " 'fire': 211,\n",
       " 'red': 212,\n",
       " 'hold': 213,\n",
       " 'mind': 214,\n",
       " 'came': 215,\n",
       " 'sound': 216,\n",
       " 'ever': 217,\n",
       " 'should': 218,\n",
       " 'watch': 219,\n",
       " 'great': 220,\n",
       " 'whi': 221,\n",
       " 'move': 222,\n",
       " 'might': 223,\n",
       " 'right': 224,\n",
       " 'star': 225,\n",
       " 'keep': 226,\n",
       " 'between': 227,\n",
       " '13': 228,\n",
       " 'sing': 229,\n",
       " 'against': 230,\n",
       " 'ask': 231,\n",
       " 'whose': 232,\n",
       " 'lie': 233,\n",
       " 'bird': 234,\n",
       " 'morn': 235,\n",
       " 'seem': 236,\n",
       " 'thee': 237,\n",
       " 'blood': 238,\n",
       " 'sweet': 239,\n",
       " 'woman': 240,\n",
       " 'voic': 241,\n",
       " 'song': 242,\n",
       " 'hair': 243,\n",
       " 'far': 244,\n",
       " 'mean': 245,\n",
       " 'room': 246,\n",
       " 'pass': 247,\n",
       " 'wait': 248,\n",
       " 'saw': 249,\n",
       " 'door': 250,\n",
       " 'boy': 251,\n",
       " 'flower': 252,\n",
       " 'rememb': 253,\n",
       " 'mouth': 254,\n",
       " 'window': 255,\n",
       " 'tri': 256,\n",
       " 'line': 257,\n",
       " 'ani': 258,\n",
       " 'moon': 259,\n",
       " 'high': 260,\n",
       " 'river': 261,\n",
       " 'small': 262,\n",
       " 'arm': 263,\n",
       " 'need': 264,\n",
       " 'close': 265,\n",
       " 'rain': 266,\n",
       " 'friend': 267,\n",
       " 'across': 268,\n",
       " 'cri': 269,\n",
       " 'insid': 270,\n",
       " 'land': 271,\n",
       " 'use': 272,\n",
       " 'until': 273,\n",
       " 'hour': 274,\n",
       " 'th': 275,\n",
       " 'street': 276,\n",
       " 'wall': 277,\n",
       " 'same': 278,\n",
       " 'cold': 279,\n",
       " 'shadow': 280,\n",
       " 'burn': 281,\n",
       " 'citi': 282,\n",
       " 'lost': 283,\n",
       " 'gone': 284,\n",
       " 'children': 285,\n",
       " 'field': 286,\n",
       " 'rise': 287,\n",
       " 'cloud': 288,\n",
       " 'ye': 289,\n",
       " 'behind': 290,\n",
       " 'full': 291,\n",
       " 'past': 292,\n",
       " 'bed': 293,\n",
       " 'child': 294,\n",
       " 'abov': 295,\n",
       " 'side': 296,\n",
       " 'stone': 297,\n",
       " 'run': 298,\n",
       " 'girl': 299,\n",
       " 'part': 300,\n",
       " 'half': 301,\n",
       " 'touch': 302,\n",
       " 'play': 303,\n",
       " 'fear': 304,\n",
       " 'put': 305,\n",
       " 'alon': 306,\n",
       " 'sit': 307,\n",
       " 'read': 308,\n",
       " 'myself': 309,\n",
       " 'speak': 310,\n",
       " 'wing': 311,\n",
       " 'deep': 312,\n",
       " 'feet': 313,\n",
       " 'grow': 314,\n",
       " 'stop': 315,\n",
       " 'most': 316,\n",
       " 'rest': 317,\n",
       " 'knew': 318,\n",
       " 'set': 319,\n",
       " 'e': 320,\n",
       " 'enough': 321,\n",
       " 'went': 322,\n",
       " 'snow': 323,\n",
       " 'wave': 324,\n",
       " 'hope': 325,\n",
       " 'young': 326,\n",
       " 'chang': 327,\n",
       " 'heaven': 328,\n",
       " 'kind': 329,\n",
       " 'found': 330,\n",
       " 'three': 331,\n",
       " 'oh': 332,\n",
       " 'everyth': 333,\n",
       " 'along': 334,\n",
       " 'till': 335,\n",
       " 'hard': 336,\n",
       " 'fill': 337,\n",
       " 'among': 338,\n",
       " 'talk': 339,\n",
       " 'summer': 340,\n",
       " 'care': 341,\n",
       " 'rose': 342,\n",
       " 'bone': 343,\n",
       " 'toward': 344,\n",
       " 'bright': 345,\n",
       " 'heard': 346,\n",
       " 'poem': 347,\n",
       " 'seen': 348,\n",
       " 'skin': 349,\n",
       " 'mine': 350,\n",
       " 'wood': 351,\n",
       " 'fli': 352,\n",
       " 'pain': 353,\n",
       " 'book': 354,\n",
       " 'color': 355,\n",
       " 'hill': 356,\n",
       " 'round': 357,\n",
       " 'becom': 358,\n",
       " 'glass': 359,\n",
       " 'someon': 360,\n",
       " 'gold': 361,\n",
       " 'finger': 362,\n",
       " 'veri': 363,\n",
       " 'got': 364,\n",
       " 'smile': 365,\n",
       " 'moment': 366,\n",
       " 'break': 367,\n",
       " 'grass': 368,\n",
       " 'write': 369,\n",
       " 'mountain': 370,\n",
       " 'begin': 371,\n",
       " 'tear': 372,\n",
       " 'dog': 373,\n",
       " 'both': 374,\n",
       " 'human': 375,\n",
       " 'itself': 376,\n",
       " 'ground': 377,\n",
       " 'war': 378,\n",
       " 'lip': 379,\n",
       " 'son': 380,\n",
       " 'tongu': 381,\n",
       " 'rock': 382,\n",
       " 'empti': 383,\n",
       " 'next': 384,\n",
       " 'learn': 385,\n",
       " 'return': 386,\n",
       " 'whole': 387,\n",
       " 'listen': 388,\n",
       " 'cut': 389,\n",
       " 'spring': 390,\n",
       " 'bring': 391,\n",
       " 'ear': 392,\n",
       " 'joy': 393,\n",
       " 'beneath': 394,\n",
       " 'sometim': 395,\n",
       " 'stori': 396,\n",
       " 'form': 397,\n",
       " 'music': 398,\n",
       " 'wonder': 399,\n",
       " 'memori': 400,\n",
       " 'show': 401,\n",
       " 'believ': 402,\n",
       " 'born': 403,\n",
       " 'danc': 404,\n",
       " 'took': 405,\n",
       " 'silenc': 406,\n",
       " 'road': 407,\n",
       " 'lay': 408,\n",
       " 'women': 409,\n",
       " 'power': 410,\n",
       " 'carri': 411,\n",
       " 'kiss': 412,\n",
       " 'natur': 413,\n",
       " 'near': 414,\n",
       " 'art': 415,\n",
       " 'told': 416,\n",
       " 'wild': 417,\n",
       " 'free': 418,\n",
       " 'drop': 419,\n",
       " 'stay': 420,\n",
       " 'togeth': 421,\n",
       " 'true': 422,\n",
       " 'spirit': 423,\n",
       " 'eat': 424,\n",
       " 'shape': 425,\n",
       " 'step': 426,\n",
       " 'happi': 427,\n",
       " 'sinc': 428,\n",
       " 'self': 429,\n",
       " 'better': 430,\n",
       " 'clear': 431,\n",
       " 'soon': 432,\n",
       " 'done': 433,\n",
       " 'laugh': 434,\n",
       " 'best': 435,\n",
       " 'els': 436,\n",
       " 'late': 437,\n",
       " 'dust': 438,\n",
       " 'within': 439,\n",
       " 'age': 440,\n",
       " 'winter': 441,\n",
       " 'soft': 442,\n",
       " 'pull': 443,\n",
       " 'car': 444,\n",
       " 'wish': 445,\n",
       " 'reach': 446,\n",
       " 'point': 447,\n",
       " 'start': 448,\n",
       " 'wake': 449,\n",
       " 'follow': 450,\n",
       " 'space': 451,\n",
       " 'lift': 452,\n",
       " 'bear': 453,\n",
       " 'less': 454,\n",
       " 'thu': 455,\n",
       " 'lord': 456,\n",
       " 'cross': 457,\n",
       " 'king': 458,\n",
       " 'sure': 459,\n",
       " 'yellow': 460,\n",
       " 'held': 461,\n",
       " 'garden': 462,\n",
       " 'fair': 463,\n",
       " 'imagin': 464,\n",
       " 'beyond': 465,\n",
       " 'broken': 466,\n",
       " 'stood': 467,\n",
       " 'mayb': 468,\n",
       " 'dear': 469,\n",
       " 'smoke': 470,\n",
       " 'also': 471,\n",
       " 'brother': 472,\n",
       " 'paint': 473,\n",
       " 'whom': 474,\n",
       " 'sens': 475,\n",
       " 'almost': 476,\n",
       " 'few': 477,\n",
       " 'leg': 478,\n",
       " 'edg': 479,\n",
       " 'forget': 480,\n",
       " 'drink': 481,\n",
       " 'roll': 482,\n",
       " 'kill': 483,\n",
       " 'wear': 484,\n",
       " 'dri': 485,\n",
       " 'hors': 486,\n",
       " 'brown': 487,\n",
       " 'floor': 488,\n",
       " 'happen': 489,\n",
       " 'sad': 490,\n",
       " 'slow': 491,\n",
       " 'flame': 492,\n",
       " 'meet': 493,\n",
       " 'town': 494,\n",
       " 'countri': 495,\n",
       " 'desir': 496,\n",
       " 'strang': 497,\n",
       " 'felt': 498,\n",
       " 'smell': 499,\n",
       " 'truth': 500,\n",
       " 'warm': 501,\n",
       " 'shine': 502,\n",
       " 'fell': 503,\n",
       " 'low': 504,\n",
       " 'help': 505,\n",
       " 'flesh': 506,\n",
       " 'angel': 507,\n",
       " 'big': 508,\n",
       " 'matter': 509,\n",
       " 'sight': 510,\n",
       " 'ring': 511,\n",
       " 'thousand': 512,\n",
       " 'besid': 513,\n",
       " 'breast': 514,\n",
       " 'ocean': 515,\n",
       " 'outsid': 516,\n",
       " 'peac': 517,\n",
       " 'gave': 518,\n",
       " 'fish': 519,\n",
       " 'dress': 520,\n",
       " 'silent': 521,\n",
       " 'poor': 522,\n",
       " 'silver': 523,\n",
       " 'goe': 524,\n",
       " 'lover': 525,\n",
       " 'gray': 526,\n",
       " 'save': 527,\n",
       " 'bare': 528,\n",
       " 'blow': 529,\n",
       " 'poet': 530,\n",
       " 'cover': 531,\n",
       " 'tabl': 532,\n",
       " 'languag': 533,\n",
       " 'hang': 534,\n",
       " 'four': 535,\n",
       " 'himself': 536,\n",
       " 'sand': 537,\n",
       " 'paper': 538,\n",
       " 'beat': 539,\n",
       " 'answer': 540,\n",
       " 'babi': 541,\n",
       " 'differ': 542,\n",
       " 'state': 543,\n",
       " 'anyth': 544,\n",
       " 'grave': 545,\n",
       " 'build': 546,\n",
       " 'themselv': 547,\n",
       " 'sister': 548,\n",
       " 'dawn': 549,\n",
       " 'hot': 550,\n",
       " 'alreadi': 551,\n",
       " 'train': 552,\n",
       " 'ice': 553,\n",
       " 'later': 554,\n",
       " 'miss': 555,\n",
       " 'quiet': 556,\n",
       " 'wide': 557,\n",
       " 'perhap': 558,\n",
       " 'pleas': 559,\n",
       " 'cloth': 560,\n",
       " 'shade': 561,\n",
       " 'secret': 562,\n",
       " 'today': 563,\n",
       " 'shoulder': 564,\n",
       " 'blind': 565,\n",
       " 'ghost': 566,\n",
       " 'second': 567,\n",
       " 'heat': 568,\n",
       " 'school': 569,\n",
       " 'none': 570,\n",
       " 'storm': 571,\n",
       " 'appear': 572,\n",
       " 'root': 573,\n",
       " 'daughter': 574,\n",
       " 'kept': 575,\n",
       " 'grace': 576,\n",
       " 'gather': 577,\n",
       " 'person': 578,\n",
       " 'wrong': 579,\n",
       " 'pale': 580,\n",
       " 'shore': 581,\n",
       " 'fruit': 582,\n",
       " 'golden': 583,\n",
       " 'known': 584,\n",
       " 'real': 585,\n",
       " 'understand': 586,\n",
       " 'heavi': 587,\n",
       " 'stream': 588,\n",
       " 'note': 589,\n",
       " 'wound': 590,\n",
       " 'top': 591,\n",
       " 'float': 592,\n",
       " 'strong': 593,\n",
       " 'final': 594,\n",
       " 'anim': 595,\n",
       " 'realli': 596,\n",
       " 'mirror': 597,\n",
       " 'longer': 598,\n",
       " 'forth': 599,\n",
       " 'de': 600,\n",
       " 'drive': 601,\n",
       " 'hell': 602,\n",
       " 'ladi': 603,\n",
       " 'stare': 604,\n",
       " 'perfect': 605,\n",
       " 'five': 606,\n",
       " 'wet': 607,\n",
       " 'sign': 608,\n",
       " 'lake': 609,\n",
       " 'below': 610,\n",
       " 'whisper': 611,\n",
       " 'forest': 612,\n",
       " 'hath': 613,\n",
       " 'enter': 614,\n",
       " 'branch': 615,\n",
       " 'mark': 616,\n",
       " 'wife': 617,\n",
       " 'throat': 618,\n",
       " 'hate': 619,\n",
       " 'brought': 620,\n",
       " 'letter': 621,\n",
       " 'teeth': 622,\n",
       " 'hide': 623,\n",
       " 'pray': 624,\n",
       " 'tast': 625,\n",
       " 'prais': 626,\n",
       " 'rais': 627,\n",
       " 'neck': 628,\n",
       " 'ship': 629,\n",
       " 'thin': 630,\n",
       " 'bell': 631,\n",
       " 'histori': 632,\n",
       " 'front': 633,\n",
       " 'forc': 634,\n",
       " 'path': 635,\n",
       " 'famili': 636,\n",
       " 'cours': 637,\n",
       " 'bless': 638,\n",
       " 'remain': 639,\n",
       " 'circl': 640,\n",
       " 'spread': 641,\n",
       " 'futur': 642,\n",
       " 'foot': 643,\n",
       " 'clean': 644,\n",
       " 'pick': 645,\n",
       " 'ride': 646,\n",
       " 'pleasur': 647,\n",
       " 'wash': 648,\n",
       " 'lean': 649,\n",
       " 'grief': 650,\n",
       " 'seek': 651,\n",
       " 'corner': 652,\n",
       " 'lead': 653,\n",
       " 'fast': 654,\n",
       " 'ago': 655,\n",
       " 'faith': 656,\n",
       " 'aliv': 657,\n",
       " 'question': 658,\n",
       " 'youth': 659,\n",
       " 'sorrow': 660,\n",
       " 'hole': 661,\n",
       " 'draw': 662,\n",
       " 'bad': 663,\n",
       " 'everyon': 664,\n",
       " 'cool': 665,\n",
       " 'reason': 666,\n",
       " 'box': 667,\n",
       " 'plant': 668,\n",
       " 'law': 669,\n",
       " 'sat': 670,\n",
       " 'brain': 671,\n",
       " 'thick': 672,\n",
       " 'flow': 673,\n",
       " 'knee': 674,\n",
       " 'singl': 675,\n",
       " 'catch': 676,\n",
       " 'imag': 677,\n",
       " 'arriv': 678,\n",
       " 'often': 679,\n",
       " 'weep': 680,\n",
       " 'ah': 681,\n",
       " 'climb': 682,\n",
       " 'bloom': 683,\n",
       " 'boat': 684,\n",
       " 'fold': 685,\n",
       " 'wit': 686,\n",
       " 'page': 687,\n",
       " 'cast': 688,\n",
       " 'caught': 689,\n",
       " 'rich': 690,\n",
       " 'gener': 691,\n",
       " 'whatev': 692,\n",
       " 'hundr': 693,\n",
       " 'holi': 694,\n",
       " 'cup': 695,\n",
       " 'count': 696,\n",
       " 'glori': 697,\n",
       " 'quit': 698,\n",
       " 'given': 699,\n",
       " 'press': 700,\n",
       " 'week': 701,\n",
       " 'yourself': 702,\n",
       " 'lose': 703,\n",
       " 'bow': 704,\n",
       " 'pine': 705,\n",
       " 'wander': 706,\n",
       " 'apart': 707,\n",
       " 'instead': 708,\n",
       " 'gaze': 709,\n",
       " 'travel': 710,\n",
       " 'slip': 711,\n",
       " 'lone': 712,\n",
       " 'forev': 713,\n",
       " 'seed': 714,\n",
       " 'least': 715,\n",
       " 'prayer': 716,\n",
       " 'pictur': 717,\n",
       " 'wine': 718,\n",
       " 'etern': 719,\n",
       " 'season': 720,\n",
       " 'order': 721,\n",
       " 'fight': 722,\n",
       " 'began': 723,\n",
       " 'lot': 724,\n",
       " 'somewher': 725,\n",
       " 'park': 726,\n",
       " 'plain': 727,\n",
       " 'grew': 728,\n",
       " 'slowli': 729,\n",
       " 'salt': 730,\n",
       " 'desert': 731,\n",
       " 'crowd': 732,\n",
       " 'gate': 733,\n",
       " 'shake': 734,\n",
       " 'buri': 735,\n",
       " 'wheel': 736,\n",
       " 'tire': 737,\n",
       " 'earli': 738,\n",
       " 'meant': 739,\n",
       " 'view': 740,\n",
       " 'iron': 741,\n",
       " 'sail': 742,\n",
       " 'piec': 743,\n",
       " 'money': 744,\n",
       " 'doth': 745,\n",
       " 'fit': 746,\n",
       " 'crack': 747,\n",
       " 'sigh': 748,\n",
       " 'leaf': 749,\n",
       " 'palm': 750,\n",
       " 'glow': 751,\n",
       " 'number': 752,\n",
       " 'suddenli': 753,\n",
       " 'hit': 754,\n",
       " 'birth': 755,\n",
       " 'tini': 756,\n",
       " 'ancient': 757,\n",
       " 'race': 758,\n",
       " 'passion': 759,\n",
       " 'larg': 760,\n",
       " 'month': 761,\n",
       " 'fine': 762,\n",
       " 'chair': 763,\n",
       " 'ten': 764,\n",
       " 'crown': 765,\n",
       " 'present': 766,\n",
       " 'fail': 767,\n",
       " 'delight': 768,\n",
       " 'afternoon': 769,\n",
       " 'distanc': 770,\n",
       " '2': 771,\n",
       " 'except': 772,\n",
       " 'fade': 773,\n",
       " 'wast': 774,\n",
       " 'doubt': 775,\n",
       " 'cat': 776,\n",
       " 'bar': 777,\n",
       " 'fate': 778,\n",
       " 'suffer': 779,\n",
       " 'pour': 780,\n",
       " 'store': 781,\n",
       " '1': 782,\n",
       " 'promis': 783,\n",
       " 'bound': 784,\n",
       " 'pure': 785,\n",
       " 'loud': 786,\n",
       " 'push': 787,\n",
       " 'island': 788,\n",
       " 'stranger': 789,\n",
       " 'lock': 790,\n",
       " 'ash': 791,\n",
       " 'taken': 792,\n",
       " 'minut': 793,\n",
       " 'tender': 794,\n",
       " 'nake': 795,\n",
       " 'pink': 796,\n",
       " 'thank': 797,\n",
       " 'cheek': 798,\n",
       " 'sin': 799,\n",
       " 'shoe': 800,\n",
       " 'short': 801,\n",
       " 'feed': 802,\n",
       " 'mile': 803,\n",
       " 'stretch': 804,\n",
       " 'drift': 805,\n",
       " 'church': 806,\n",
       " 'offer': 807,\n",
       " 'bend': 808,\n",
       " 'bridg': 809,\n",
       " 'weight': 810,\n",
       " 'middl': 811,\n",
       " 'gift': 812,\n",
       " 'blossom': 813,\n",
       " 'food': 814,\n",
       " 'swallow': 815,\n",
       " 'roof': 816,\n",
       " 'figur': 817,\n",
       " 'exist': 818,\n",
       " 'ball': 819,\n",
       " 'kitchen': 820,\n",
       " 'west': 821,\n",
       " 'act': 822,\n",
       " 'share': 823,\n",
       " 'fresh': 824,\n",
       " 'flight': 825,\n",
       " 'shut': 826,\n",
       " 'feather': 827,\n",
       " 'flash': 828,\n",
       " 'nation': 829,\n",
       " 'throw': 830,\n",
       " 'purpl': 831,\n",
       " 'sink': 832,\n",
       " 'shot': 833,\n",
       " 'sick': 834,\n",
       " 'search': 835,\n",
       " 'seat': 836,\n",
       " 'stick': 837,\n",
       " 'bit': 838,\n",
       " 'appl': 839,\n",
       " 'scream': 840,\n",
       " 'trembl': 841,\n",
       " 'poetri': 842,\n",
       " 'echo': 843,\n",
       " 'limb': 844,\n",
       " 'north': 845,\n",
       " 'frame': 846,\n",
       " 'row': 847,\n",
       " 'fact': 848,\n",
       " 'tide': 849,\n",
       " 'flood': 850,\n",
       " 'surfac': 851,\n",
       " 'disappear': 852,\n",
       " 'continu': 853,\n",
       " 'calm': 854,\n",
       " 'neither': 855,\n",
       " 'six': 856,\n",
       " 'possibl': 857,\n",
       " 'rage': 858,\n",
       " 'weather': 859,\n",
       " 'chain': 860,\n",
       " 'rush': 861,\n",
       " 'orang': 862,\n",
       " 'master': 863,\n",
       " 'bank': 864,\n",
       " 'shame': 865,\n",
       " 'readi': 866,\n",
       " 'milk': 867,\n",
       " 'loos': 868,\n",
       " 'gun': 869,\n",
       " 'vain': 870,\n",
       " 'coat': 871,\n",
       " 'busi': 872,\n",
       " 'hall': 873,\n",
       " 'send': 874,\n",
       " 'dim': 875,\n",
       " 'twenti': 876,\n",
       " 'dirt': 877,\n",
       " 'bag': 878,\n",
       " 'queen': 879,\n",
       " 'spot': 880,\n",
       " 'thine': 881,\n",
       " 'ourselv': 882,\n",
       " 'straight': 883,\n",
       " 'bread': 884,\n",
       " 'wise': 885,\n",
       " 'vision': 886,\n",
       " 'dare': 887,\n",
       " 'chest': 888,\n",
       " '3': 889,\n",
       " 'hurt': 890,\n",
       " 'tall': 891,\n",
       " 'sweat': 892,\n",
       " 'hast': 893,\n",
       " 'bee': 894,\n",
       " 'yard': 895,\n",
       " 'track': 896,\n",
       " 'mad': 897,\n",
       " 'ruin': 898,\n",
       " 'kid': 899,\n",
       " 'idea': 900,\n",
       " 'sent': 901,\n",
       " 'ran': 902,\n",
       " 'anyon': 903,\n",
       " 'measur': 904,\n",
       " 'grown': 905,\n",
       " 'tower': 906,\n",
       " 'husband': 907,\n",
       " 'block': 908,\n",
       " 'centuri': 909,\n",
       " 'american': 910,\n",
       " 'laid': 911,\n",
       " 'pool': 912,\n",
       " 'lit': 913,\n",
       " 'shout': 914,\n",
       " 'safe': 915,\n",
       " 'univers': 916,\n",
       " 'ere': 917,\n",
       " 'hidden': 918,\n",
       " 'wrap': 919,\n",
       " 'quick': 920,\n",
       " 'nest': 921,\n",
       " 'pride': 922,\n",
       " 'certain': 923,\n",
       " 'clock': 924,\n",
       " 'whether': 925,\n",
       " 'shirt': 926,\n",
       " 'scene': 927,\n",
       " 'becam': 928,\n",
       " 'broke': 929,\n",
       " 'met': 930,\n",
       " 'america': 931,\n",
       " 'spoke': 932,\n",
       " 'pay': 933,\n",
       " 'drown': 934,\n",
       " 'tie': 935,\n",
       " 'forgotten': 936,\n",
       " 'creatur': 937,\n",
       " 'oil': 938,\n",
       " 'march': 939,\n",
       " 'belli': 940,\n",
       " 'sheet': 941,\n",
       " 'herself': 942,\n",
       " 'al': 943,\n",
       " 'melt': 944,\n",
       " 'flat': 945,\n",
       " 'either': 946,\n",
       " 'teach': 947,\n",
       " 'swim': 948,\n",
       " 'mist': 949,\n",
       " 'bitter': 950,\n",
       " 'ill': 951,\n",
       " 'nose': 952,\n",
       " 'drag': 953,\n",
       " 'strength': 954,\n",
       " 'escap': 955,\n",
       " 'easi': 956,\n",
       " 'stir': 957,\n",
       " 'game': 958,\n",
       " 'chanc': 959,\n",
       " 'weari': 960,\n",
       " 'parent': 961,\n",
       " 'afraid': 962,\n",
       " 'trust': 963,\n",
       " 'mysteri': 964,\n",
       " 'valley': 965,\n",
       " 'mourn': 966,\n",
       " 'mi': 967,\n",
       " 'blade': 968,\n",
       " 'thread': 969,\n",
       " 'south': 970,\n",
       " 'loss': 971,\n",
       " 'bent': 972,\n",
       " 'sudden': 973,\n",
       " 'gentl': 974,\n",
       " 'everywher': 975,\n",
       " 'buy': 976,\n",
       " 'troubl': 977,\n",
       " 'hung': 978,\n",
       " 'burst': 979,\n",
       " 'curl': 980,\n",
       " 'gleam': 981,\n",
       " 'fool': 982,\n",
       " 'hunger': 983,\n",
       " 'egg': 984,\n",
       " 'thunder': 985,\n",
       " 'seven': 986,\n",
       " 'divin': 987,\n",
       " 'comfort': 988,\n",
       " 'scent': 989,\n",
       " 'neighbor': 990,\n",
       " 'center': 991,\n",
       " 'brush': 992,\n",
       " 'rather': 993,\n",
       " 'onto': 994,\n",
       " 'w': 995,\n",
       " 'simpl': 996,\n",
       " 'proud': 997,\n",
       " 'grey': 998,\n",
       " 'autumn': 999,\n",
       " ...}"
      ]
     },
     "execution_count": 12,
     "metadata": {},
     "output_type": "execute_result"
    }
   ],
   "source": [
    "word_dict"
   ]
  },
  {
   "cell_type": "code",
   "execution_count": 13,
   "id": "396a90b5",
   "metadata": {},
   "outputs": [],
   "source": [
    "processed_texts = [preprocess(text) for text in texts]"
   ]
  },
  {
   "cell_type": "code",
   "execution_count": 14,
   "id": "97fadab5",
   "metadata": {},
   "outputs": [
    {
     "data": {
      "text/plain": [
       "4838"
      ]
     },
     "execution_count": 14,
     "metadata": {},
     "output_type": "execute_result"
    }
   ],
   "source": [
    "len(processed_texts)"
   ]
  },
  {
   "cell_type": "code",
   "execution_count": 15,
   "id": "78ed49a7",
   "metadata": {},
   "outputs": [
    {
     "data": {
      "text/plain": [
       "4838"
      ]
     },
     "execution_count": 15,
     "metadata": {},
     "output_type": "execute_result"
    }
   ],
   "source": [
    "y = np.array(df['age'])\n",
    "len(y)"
   ]
  },
  {
   "cell_type": "code",
   "execution_count": 16,
   "id": "2e871f3d",
   "metadata": {},
   "outputs": [
    {
     "data": {
      "text/plain": [
       "array(['Renaissance', 'Renaissance', 'Renaissance', ..., 'Modern',\n",
       "       'Modern', 'Modern'], dtype=object)"
      ]
     },
     "execution_count": 16,
     "metadata": {},
     "output_type": "execute_result"
    }
   ],
   "source": [
    "y"
   ]
  },
  {
   "cell_type": "code",
   "execution_count": 17,
   "id": "7522935b",
   "metadata": {},
   "outputs": [],
   "source": [
    "y = np.array([0 if i == 'Renaissance' else 1 for i in y])"
   ]
  },
  {
   "cell_type": "code",
   "execution_count": 18,
   "id": "1aa374bf",
   "metadata": {},
   "outputs": [
    {
     "data": {
      "text/plain": [
       "array([0, 0, 0, ..., 1, 1, 1])"
      ]
     },
     "execution_count": 18,
     "metadata": {},
     "output_type": "execute_result"
    }
   ],
   "source": [
    "y"
   ]
  },
  {
   "cell_type": "code",
   "execution_count": 19,
   "id": "804c34d0",
   "metadata": {},
   "outputs": [],
   "source": [
    "def indexed_text(text):\n",
    "    return np.array([word_dict[word] for word in text.split(' ')])"
   ]
  },
  {
   "cell_type": "code",
   "execution_count": 20,
   "id": "a78a3169",
   "metadata": {},
   "outputs": [],
   "source": [
    "X = [indexed_text(text) for text in processed_texts]"
   ]
  },
  {
   "cell_type": "code",
   "execution_count": 21,
   "id": "cfc73237",
   "metadata": {},
   "outputs": [],
   "source": [
    "lengths = [len(i) for i in X]"
   ]
  },
  {
   "cell_type": "code",
   "execution_count": 22,
   "id": "e908aabe",
   "metadata": {},
   "outputs": [
    {
     "data": {
      "text/plain": [
       "299.04195948739147"
      ]
     },
     "execution_count": 22,
     "metadata": {},
     "output_type": "execute_result"
    }
   ],
   "source": [
    "sum(lengths)/len(lengths)"
   ]
  },
  {
   "cell_type": "code",
   "execution_count": 23,
   "id": "471e9dfb",
   "metadata": {},
   "outputs": [],
   "source": [
    "maxlen=200\n",
    "\n",
    "X_padded = pad_sequences(X, maxlen = maxlen, padding = 'post', truncating = 'post', value = 0)"
   ]
  },
  {
   "cell_type": "code",
   "execution_count": 24,
   "id": "5bcee6c4",
   "metadata": {},
   "outputs": [
    {
     "data": {
      "text/plain": [
       "array([  114,     2,   234,     4,  8423,   408,    16,     2,  1966,\n",
       "       11948,   125,  4294,   490,     3,  1873,    30,     6,   232,\n",
       "         216,  4355,   311,  2630,    25,   169,  2234,  8592,  2072,\n",
       "           1,     4,     2,  3264, 10979,     4,     2,  1806,  1143,\n",
       "         184,     6,    24,  3174,    75,   169,    15,   414,    23,\n",
       "          24,  7540,     1,   146,  4514,     4,  2998,   311,   527,\n",
       "           2,  1787,   827,  1747,   458,   226,     2,     1,    44,\n",
       "        5122,   114,     2,  1659,     8,     1,   118,    11, 11884,\n",
       "         398,    73,    30,     2,   176,   987,  2028,  1968,     2,\n",
       "        8254,  1266,    19,   224,     3,   169,  7212,  1666,  1106,\n",
       "          11,    24,  5217,  4086,  8019,  1645,    14,     2,   205,\n",
       "         169, 11832,  1645,     3,  6608,  1645, 11152,    47,  5498,\n",
       "        1932,   169,    89,    91,     2,  5108,   745,  6009,    55,\n",
       "           3, 10664,    10,   162,  5410,     3,     2,  2615,  1378,\n",
       "           8,     5,  4819,   492,    23,  2084,    44,    33,  5232,\n",
       "        1747,    18,    55,     8,  4809,    69,     2,  3902,    25,\n",
       "           8,    37,   153,  2930,  4553,   570,   752,    46,     8,\n",
       "          55,    22,  2962,   103,  2841,   135,    15,  7514,   770,\n",
       "           3,    45,   451,    22,   348,  5164,    24,  2615,     3,\n",
       "          19,   879,    25,     8,    62,     9,    60,     5,   399,\n",
       "          44,   227,    62,    55,    92,   502,    11,     2,  2615,\n",
       "         249,    19,   224,   492,     8,     2,  5410,   510,   946,\n",
       "          22,     2], dtype=int32)"
      ]
     },
     "execution_count": 24,
     "metadata": {},
     "output_type": "execute_result"
    }
   ],
   "source": [
    "X_padded[0]"
   ]
  },
  {
   "cell_type": "code",
   "execution_count": 25,
   "id": "d493e587",
   "metadata": {},
   "outputs": [
    {
     "data": {
      "text/plain": [
       "(4838, 200)"
      ]
     },
     "execution_count": 25,
     "metadata": {},
     "output_type": "execute_result"
    }
   ],
   "source": [
    "X_final = np.array(X_padded)\n",
    "X_final.shape"
   ]
  },
  {
   "cell_type": "code",
   "execution_count": 26,
   "id": "18308caa",
   "metadata": {},
   "outputs": [
    {
     "name": "stdout",
     "output_type": "stream",
     "text": [
      "(3628, 200)\n",
      "(1210, 200)\n",
      "3628\n",
      "1210\n"
     ]
    }
   ],
   "source": [
    "from sklearn.model_selection import train_test_split\n",
    "\n",
    "X_train, X_test, y_train, y_test = train_test_split(X_final, y, test_size=0.25, random_state=42)\n",
    "\n",
    "print(X_train.shape)\n",
    "print(X_test.shape)\n",
    "print(len(y_train))\n",
    "print(len(y_test))"
   ]
  },
  {
   "cell_type": "code",
   "execution_count": 27,
   "id": "a17803a6",
   "metadata": {},
   "outputs": [],
   "source": [
    "X_train, X_val, y_train, y_val = train_test_split(X_train, y_train, test_size=0.25, random_state=42)"
   ]
  },
  {
   "cell_type": "code",
   "execution_count": 28,
   "id": "96449b44",
   "metadata": {},
   "outputs": [
    {
     "data": {
      "text/plain": [
       "15001"
      ]
     },
     "execution_count": 28,
     "metadata": {},
     "output_type": "execute_result"
    }
   ],
   "source": [
    "num_words = len(unique_words)+1\n",
    "num_words"
   ]
  },
  {
   "cell_type": "markdown",
   "id": "53b05f4a",
   "metadata": {},
   "source": [
    "### RNN_Dense"
   ]
  },
  {
   "cell_type": "code",
   "execution_count": 32,
   "id": "13bf34ca",
   "metadata": {},
   "outputs": [
    {
     "name": "stdout",
     "output_type": "stream",
     "text": [
      "Model: \"sequential_1\"\n",
      "_________________________________________________________________\n",
      " Layer (type)                Output Shape              Param #   \n",
      "=================================================================\n",
      " embedding_1 (Embedding)     (None, 200, 64)           960064    \n",
      "                                                                 \n",
      " simple_rnn_1 (SimpleRNN)    (None, 32)                3104      \n",
      "                                                                 \n",
      " dense_3 (Dense)             (None, 16)                528       \n",
      "                                                                 \n",
      " dropout_2 (Dropout)         (None, 16)                0         \n",
      "                                                                 \n",
      " dense_4 (Dense)             (None, 1)                 17        \n",
      "                                                                 \n",
      "=================================================================\n",
      "Total params: 963713 (3.68 MB)\n",
      "Trainable params: 963713 (3.68 MB)\n",
      "Non-trainable params: 0 (0.00 Byte)\n",
      "_________________________________________________________________\n"
     ]
    }
   ],
   "source": [
    "RNN_Dense = tf.keras.models.Sequential([\n",
    "  tf.keras.layers.Embedding(input_dim=num_words, output_dim=64, input_length=maxlen),\n",
    "  tf.keras.layers.SimpleRNN(units =32,activation = 'relu',dropout=0.2),\n",
    "  tf.keras.layers.Dense(16, activation='relu'), # Dense layer 1\n",
    "  tf.keras.layers.Dropout(0.1),\n",
    "  tf.keras.layers.Dense(1, activation='sigmoid')\n",
    "])\n",
    "    \n",
    "RNN_Dense.summary()"
   ]
  },
  {
   "cell_type": "code",
   "execution_count": 33,
   "id": "a3c105a0",
   "metadata": {},
   "outputs": [
    {
     "name": "stdout",
     "output_type": "stream",
     "text": [
      "Epoch 1/25\n",
      "86/86 [==============================] - 2s 17ms/step - loss: 0.6395 - accuracy: 0.6766 - val_loss: 0.6196 - val_accuracy: 0.6913\n",
      "Epoch 2/25\n",
      "86/86 [==============================] - 1s 16ms/step - loss: 0.6174 - accuracy: 0.6876 - val_loss: 0.6240 - val_accuracy: 0.6913\n",
      "Epoch 3/25\n",
      "86/86 [==============================] - 1s 17ms/step - loss: 0.5971 - accuracy: 0.6876 - val_loss: 1.2388 - val_accuracy: 0.6913\n",
      "Epoch 4/25\n",
      "86/86 [==============================] - 1s 16ms/step - loss: 0.5654 - accuracy: 0.7185 - val_loss: 0.5818 - val_accuracy: 0.7089\n",
      "Epoch 5/25\n",
      "86/86 [==============================] - 1s 16ms/step - loss: 0.5272 - accuracy: 0.7475 - val_loss: 0.5893 - val_accuracy: 0.7089\n",
      "Epoch 6/25\n",
      "86/86 [==============================] - 1s 16ms/step - loss: 0.5012 - accuracy: 0.7589 - val_loss: 0.5789 - val_accuracy: 0.7078\n",
      "Epoch 7/25\n",
      "86/86 [==============================] - 1s 16ms/step - loss: 0.4602 - accuracy: 0.7813 - val_loss: 0.7721 - val_accuracy: 0.8071\n",
      "Epoch 8/25\n",
      "86/86 [==============================] - 1s 16ms/step - loss: 0.3886 - accuracy: 0.8537 - val_loss: 0.5184 - val_accuracy: 0.8126\n",
      "Epoch 9/25\n",
      "86/86 [==============================] - 1s 16ms/step - loss: 0.4482 - accuracy: 0.7828 - val_loss: 0.5885 - val_accuracy: 0.8037\n",
      "Epoch 10/25\n",
      "86/86 [==============================] - 1s 16ms/step - loss: 0.3617 - accuracy: 0.8567 - val_loss: 0.7315 - val_accuracy: 0.5402\n",
      "Epoch 11/25\n",
      "86/86 [==============================] - 1s 16ms/step - loss: 0.3431 - accuracy: 0.8581 - val_loss: 0.5628 - val_accuracy: 0.7993\n",
      "Epoch 12/25\n",
      "86/86 [==============================] - 1s 16ms/step - loss: 0.3254 - accuracy: 0.8787 - val_loss: 0.6241 - val_accuracy: 0.8148\n",
      "Epoch 13/25\n",
      "86/86 [==============================] - 1s 16ms/step - loss: 0.3410 - accuracy: 0.8703 - val_loss: 0.5286 - val_accuracy: 0.8115\n",
      "Epoch 14/25\n",
      "86/86 [==============================] - 1s 17ms/step - loss: 0.3301 - accuracy: 0.8743 - val_loss: 0.6280 - val_accuracy: 0.7872\n",
      "Epoch 15/25\n",
      "86/86 [==============================] - 1s 17ms/step - loss: 0.3290 - accuracy: 0.8703 - val_loss: 0.6020 - val_accuracy: 0.7971\n",
      "Epoch 16/25\n",
      "86/86 [==============================] - 1s 16ms/step - loss: 0.3103 - accuracy: 0.8835 - val_loss: 0.6843 - val_accuracy: 0.8126\n",
      "Epoch 17/25\n",
      "86/86 [==============================] - 1s 16ms/step - loss: 0.3048 - accuracy: 0.8879 - val_loss: 0.6506 - val_accuracy: 0.8137\n",
      "Epoch 18/25\n",
      "86/86 [==============================] - 1s 16ms/step - loss: 0.3426 - accuracy: 0.8644 - val_loss: 3.0231 - val_accuracy: 0.7674\n",
      "Epoch 19/25\n",
      "86/86 [==============================] - 1s 16ms/step - loss: 0.3387 - accuracy: 0.8809 - val_loss: 0.6126 - val_accuracy: 0.8170\n",
      "Epoch 20/25\n",
      "86/86 [==============================] - 1s 16ms/step - loss: 0.2944 - accuracy: 0.8912 - val_loss: 0.6754 - val_accuracy: 0.8026\n",
      "Epoch 21/25\n",
      "86/86 [==============================] - 1s 16ms/step - loss: 0.3052 - accuracy: 0.8864 - val_loss: 0.6740 - val_accuracy: 0.8247\n",
      "Epoch 22/25\n",
      "86/86 [==============================] - 1s 16ms/step - loss: 0.6259 - accuracy: 0.8795 - val_loss: 0.6031 - val_accuracy: 0.8104\n",
      "Epoch 23/25\n",
      "86/86 [==============================] - 1s 16ms/step - loss: 0.3197 - accuracy: 0.8960 - val_loss: 0.5983 - val_accuracy: 0.7949\n",
      "Epoch 24/25\n",
      "86/86 [==============================] - 1s 16ms/step - loss: 0.2907 - accuracy: 0.9048 - val_loss: 0.5576 - val_accuracy: 0.8126\n",
      "Epoch 25/25\n",
      "86/86 [==============================] - 1s 16ms/step - loss: 0.3085 - accuracy: 0.9147 - val_loss: 0.5907 - val_accuracy: 0.8192\n"
     ]
    }
   ],
   "source": [
    "loss_function = keras.losses.BinaryCrossentropy(from_logits=False)\n",
    "RNN_Dense.compile(\n",
    "                 loss=loss_function,\n",
    "                 metrics=[\"accuracy\"],\n",
    "                 optimizer='rmsprop'\n",
    "                 )\n",
    "\n",
    "Hist=RNN_Dense.fit(X_train, y_train, epochs=25, validation_data=(X_val, y_val))\n"
   ]
  },
  {
   "cell_type": "code",
   "execution_count": 34,
   "id": "c8056825",
   "metadata": {},
   "outputs": [
    {
     "data": {
      "image/png": "[encoded data removed]",
      "text/plain": [
       "<Figure size 640x480 with 1 Axes>"
      ]
     },
     "metadata": {},
     "output_type": "display_data"
    }
   ],
   "source": [
    "plt.plot(Hist.history['loss'])\n",
    "plt.xlabel('Epochs')\n",
    "plt.ylabel('Training loss')\n",
    "plt.show()"
   ]
  },
  {
   "cell_type": "code",
   "execution_count": 35,
   "id": "9e9a6515",
   "metadata": {},
   "outputs": [
    {
     "data": {
      "image/png": "[encoded data removed]",
      "text/plain": [
       "<Figure size 640x480 with 1 Axes>"
      ]
     },
     "metadata": {},
     "output_type": "display_data"
    }
   ],
   "source": [
    "# Accuracy of training and validation sets over epochs\n",
    "plt.plot(Hist.history['accuracy'],label = 'Training Accuracy')\n",
    "plt.plot(Hist.history['val_accuracy'],label = 'Validation Accuracy')\n",
    "plt.xlabel('Epochs')\n",
    "plt.ylabel('Accuracy')\n",
    "plt.show()\n"
   ]
  },
  {
   "cell_type": "code",
   "execution_count": 36,
   "id": "d8657076",
   "metadata": {},
   "outputs": [
    {
     "name": "stdout",
     "output_type": "stream",
     "text": [
      "38/38 [==============================] - 0s 2ms/step\n"
     ]
    },
    {
     "data": {
      "image/png": "[encoded data removed]",
      "text/plain": [
       "<Figure size 640x480 with 2 Axes>"
      ]
     },
     "metadata": {},
     "output_type": "display_data"
    }
   ],
   "source": [
    "y_pred = RNN_Dense.predict(X_test)\n",
    "y_pred = y_pred.reshape(len(y_pred),)\n",
    "y_pred = np.array([round(i) for i in y_pred])\n",
    "\n",
    "### Confusion Matrix\n",
    "cm = confusion_matrix(y_test,y_pred)\n",
    "\n",
    "ax= plt.subplot()\n",
    "sns.heatmap(cm, annot=True, fmt='g', ax=ax, cmap='Blues') \n",
    "plt.title(\"Confusion Matrix\")\n",
    "plt.show()\n"
   ]
  },
  {
   "cell_type": "code",
   "execution_count": 37,
   "id": "9c8e9a5e",
   "metadata": {},
   "outputs": [
    {
     "data": {
      "text/plain": [
       "1210"
      ]
     },
     "execution_count": 37,
     "metadata": {},
     "output_type": "execute_result"
    }
   ],
   "source": [
    "len(y_pred)"
   ]
  },
  {
   "cell_type": "code",
   "execution_count": 49,
   "id": "8af0c0cb",
   "metadata": {},
   "outputs": [],
   "source": [
    "accuracy = (771+231)/(1210)"
   ]
  },
  {
   "cell_type": "code",
   "execution_count": 50,
   "id": "70c4a71b",
   "metadata": {},
   "outputs": [
    {
     "data": {
      "text/plain": [
       "0.828099173553719"
      ]
     },
     "execution_count": 50,
     "metadata": {},
     "output_type": "execute_result"
    }
   ],
   "source": [
    "accuracy"
   ]
  },
  {
   "cell_type": "markdown",
   "id": "b78496f5",
   "metadata": {},
   "source": [
    "### ANN"
   ]
  },
  {
   "cell_type": "code",
   "execution_count": 40,
   "id": "1d2fe859",
   "metadata": {},
   "outputs": [
    {
     "name": "stdout",
     "output_type": "stream",
     "text": [
      "Model: \"sequential_2\"\n",
      "_________________________________________________________________\n",
      " Layer (type)                Output Shape              Param #   \n",
      "=================================================================\n",
      " embedding_2 (Embedding)     (None, 200, 100)          1500100   \n",
      "                                                                 \n",
      " flatten (Flatten)           (None, 20000)             0         \n",
      "                                                                 \n",
      " dropout_3 (Dropout)         (None, 20000)             0         \n",
      "                                                                 \n",
      " dense_5 (Dense)             (None, 64)                1280064   \n",
      "                                                                 \n",
      " dropout_4 (Dropout)         (None, 64)                0         \n",
      "                                                                 \n",
      " dense_6 (Dense)             (None, 1)                 65        \n",
      "                                                                 \n",
      "=================================================================\n",
      "Total params: 2780229 (10.61 MB)\n",
      "Trainable params: 2780229 (10.61 MB)\n",
      "Non-trainable params: 0 (0.00 Byte)\n",
      "_________________________________________________________________\n"
     ]
    }
   ],
   "source": [
    "ANN = tf.keras.models.Sequential([\n",
    "  tf.keras.layers.Embedding(input_dim=num_words, output_dim=100, input_length=maxlen),\n",
    "  tf.keras.layers.Flatten(),\n",
    "  tf.keras.layers.Dropout(0.2),\n",
    "  tf.keras.layers.Dense(64, activation='relu'), \n",
    "  tf.keras.layers.Dropout(0.2),\n",
    "  tf.keras.layers.Dense(1, activation='sigmoid')\n",
    "])\n",
    "    \n",
    "ANN.summary()"
   ]
  },
  {
   "cell_type": "code",
   "execution_count": 41,
   "id": "ca388352",
   "metadata": {},
   "outputs": [
    {
     "name": "stdout",
     "output_type": "stream",
     "text": [
      "Epoch 1/25\n",
      "86/86 [==============================] - 1s 7ms/step - loss: 0.4977 - accuracy: 0.7718 - val_loss: 0.3814 - val_accuracy: 0.8567\n",
      "Epoch 2/25\n",
      "86/86 [==============================] - 1s 7ms/step - loss: 0.1806 - accuracy: 0.9416 - val_loss: 0.3831 - val_accuracy: 0.8567\n",
      "Epoch 3/25\n",
      "86/86 [==============================] - 1s 6ms/step - loss: 0.0455 - accuracy: 0.9879 - val_loss: 0.5807 - val_accuracy: 0.8302\n",
      "Epoch 4/25\n",
      "86/86 [==============================] - 1s 6ms/step - loss: 0.0116 - accuracy: 0.9974 - val_loss: 0.4210 - val_accuracy: 0.8666\n",
      "Epoch 5/25\n",
      "86/86 [==============================] - 1s 6ms/step - loss: 0.0029 - accuracy: 0.9993 - val_loss: 0.5509 - val_accuracy: 0.8567\n",
      "Epoch 6/25\n",
      "86/86 [==============================] - 1s 7ms/step - loss: 6.0378e-04 - accuracy: 1.0000 - val_loss: 0.6724 - val_accuracy: 0.8467\n",
      "Epoch 7/25\n",
      "86/86 [==============================] - 1s 7ms/step - loss: 1.6907e-04 - accuracy: 1.0000 - val_loss: 1.0733 - val_accuracy: 0.8302\n",
      "Epoch 8/25\n",
      "86/86 [==============================] - 1s 7ms/step - loss: 2.6756e-05 - accuracy: 1.0000 - val_loss: 0.7294 - val_accuracy: 0.8479\n",
      "Epoch 9/25\n",
      "86/86 [==============================] - 1s 6ms/step - loss: 2.9382e-06 - accuracy: 1.0000 - val_loss: 0.8462 - val_accuracy: 0.8523\n",
      "Epoch 10/25\n",
      "86/86 [==============================] - 1s 6ms/step - loss: 9.3558e-07 - accuracy: 1.0000 - val_loss: 1.0015 - val_accuracy: 0.8523\n",
      "Epoch 11/25\n",
      "86/86 [==============================] - 1s 6ms/step - loss: 3.7013e-07 - accuracy: 1.0000 - val_loss: 0.8709 - val_accuracy: 0.8501\n",
      "Epoch 12/25\n",
      "86/86 [==============================] - 1s 6ms/step - loss: 1.5569e-07 - accuracy: 1.0000 - val_loss: 1.0514 - val_accuracy: 0.8490\n",
      "Epoch 13/25\n",
      "86/86 [==============================] - 1s 6ms/step - loss: 3.9517e-08 - accuracy: 1.0000 - val_loss: 1.0300 - val_accuracy: 0.8534\n",
      "Epoch 14/25\n",
      "86/86 [==============================] - 1s 6ms/step - loss: 4.6163e-08 - accuracy: 1.0000 - val_loss: 1.0632 - val_accuracy: 0.8501\n",
      "Epoch 15/25\n",
      "86/86 [==============================] - 1s 7ms/step - loss: 1.6634e-08 - accuracy: 1.0000 - val_loss: 1.1682 - val_accuracy: 0.8445\n",
      "Epoch 16/25\n",
      "86/86 [==============================] - 1s 7ms/step - loss: 1.9962e-08 - accuracy: 1.0000 - val_loss: 1.0602 - val_accuracy: 0.8523\n",
      "Epoch 17/25\n",
      "86/86 [==============================] - 1s 8ms/step - loss: 1.6099e-08 - accuracy: 1.0000 - val_loss: 1.0562 - val_accuracy: 0.8501\n",
      "Epoch 18/25\n",
      "86/86 [==============================] - 1s 7ms/step - loss: 1.5695e-08 - accuracy: 1.0000 - val_loss: 1.1352 - val_accuracy: 0.8479\n",
      "Epoch 19/25\n",
      "86/86 [==============================] - 1s 6ms/step - loss: 1.9484e-08 - accuracy: 1.0000 - val_loss: 1.1505 - val_accuracy: 0.8467\n",
      "Epoch 20/25\n",
      "86/86 [==============================] - 1s 7ms/step - loss: 7.4013e-09 - accuracy: 1.0000 - val_loss: 1.1063 - val_accuracy: 0.8501\n",
      "Epoch 21/25\n",
      "86/86 [==============================] - 1s 7ms/step - loss: 2.2237e-08 - accuracy: 1.0000 - val_loss: 1.1492 - val_accuracy: 0.8467\n",
      "Epoch 22/25\n",
      "86/86 [==============================] - 1s 7ms/step - loss: 2.3366e-08 - accuracy: 1.0000 - val_loss: 1.2097 - val_accuracy: 0.8467\n",
      "Epoch 23/25\n",
      "86/86 [==============================] - 1s 7ms/step - loss: 1.0166e-08 - accuracy: 1.0000 - val_loss: 1.2014 - val_accuracy: 0.8501\n",
      "Epoch 24/25\n",
      "86/86 [==============================] - 1s 7ms/step - loss: 5.9527e-09 - accuracy: 1.0000 - val_loss: 1.2190 - val_accuracy: 0.8490\n",
      "Epoch 25/25\n",
      "86/86 [==============================] - 1s 7ms/step - loss: 3.5976e-09 - accuracy: 1.0000 - val_loss: 1.1805 - val_accuracy: 0.8512\n"
     ]
    }
   ],
   "source": [
    "loss_function = keras.losses.BinaryCrossentropy(from_logits=False)\n",
    "ANN.compile(\n",
    "                 loss=loss_function,\n",
    "                 metrics=[\"accuracy\"],\n",
    "                 optimizer='rmsprop'\n",
    "                 )\n",
    "\n",
    "Hist=ANN.fit(X_train, y_train, epochs=25, validation_data=(X_val, y_val))\n"
   ]
  },
  {
   "cell_type": "code",
   "execution_count": 42,
   "id": "bb75886a",
   "metadata": {},
   "outputs": [
    {
     "data": {
      "image/png": "[encoded data removed]",
      "text/plain": [
       "<Figure size 640x480 with 1 Axes>"
      ]
     },
     "metadata": {},
     "output_type": "display_data"
    }
   ],
   "source": [
    "plt.plot(Hist.history['loss'])\n",
    "plt.xlabel('Epochs')\n",
    "plt.ylabel('Training loss')\n",
    "plt.show()"
   ]
  },
  {
   "cell_type": "code",
   "execution_count": 43,
   "id": "61bbf681",
   "metadata": {},
   "outputs": [
    {
     "data": {
      "image/png": "[encoded data removed]",
      "text/plain": [
       "<Figure size 640x480 with 1 Axes>"
      ]
     },
     "metadata": {},
     "output_type": "display_data"
    }
   ],
   "source": [
    "# Accuracy of training and validation sets over epochs\n",
    "plt.plot(Hist.history['accuracy'],label = 'Training Accuracy')\n",
    "plt.plot(Hist.history['val_accuracy'],label = 'Validation Accuracy')\n",
    "plt.xlabel('Epochs')\n",
    "plt.ylabel('Accuracy')\n",
    "plt.show()\n"
   ]
  },
  {
   "cell_type": "code",
   "execution_count": 44,
   "id": "4a3b70f4",
   "metadata": {},
   "outputs": [
    {
     "name": "stdout",
     "output_type": "stream",
     "text": [
      "38/38 [==============================] - 0s 838us/step\n"
     ]
    },
    {
     "data": {
      "image/png": "[encoded data removed]",
      "text/plain": [
       "<Figure size 640x480 with 2 Axes>"
      ]
     },
     "metadata": {},
     "output_type": "display_data"
    }
   ],
   "source": [
    "y_pred = ANN.predict(X_test)\n",
    "y_pred = y_pred.reshape(len(y_pred),)\n",
    "y_pred = np.array([round(i) for i in y_pred])\n",
    "\n",
    "### Confusion Matrix\n",
    "cm = confusion_matrix(y_test,y_pred)\n",
    "\n",
    "ax= plt.subplot()\n",
    "sns.heatmap(cm, annot=True, fmt='g', ax=ax, cmap='Blues') \n",
    "plt.title(\"Confusion Matrix\")\n",
    "plt.show()\n"
   ]
  },
  {
   "cell_type": "code",
   "execution_count": 45,
   "id": "b671a4dc",
   "metadata": {},
   "outputs": [
    {
     "data": {
      "text/plain": [
       "1210"
      ]
     },
     "execution_count": 45,
     "metadata": {},
     "output_type": "execute_result"
    }
   ],
   "source": [
    "len(y_pred)"
   ]
  },
  {
   "cell_type": "code",
   "execution_count": 47,
   "id": "c49be319",
   "metadata": {},
   "outputs": [],
   "source": [
    "accuracy = (778+258)/(1210)"
   ]
  },
  {
   "cell_type": "code",
   "execution_count": 48,
   "id": "0c501d03",
   "metadata": {},
   "outputs": [
    {
     "data": {
      "text/plain": [
       "0.856198347107438"
      ]
     },
     "execution_count": 48,
     "metadata": {},
     "output_type": "execute_result"
    }
   ],
   "source": [
    "accuracy"
   ]
  },
  {
   "cell_type": "markdown",
   "id": "db0570b2",
   "metadata": {},
   "source": [
    "#### Word Embeddings"
   ]
  },
  {
   "cell_type": "code",
   "execution_count": 76,
   "id": "48dda4c1",
   "metadata": {},
   "outputs": [],
   "source": [
    "embeddings = np.array(word_embeddings.iloc[:,:-1])"
   ]
  },
  {
   "cell_type": "code",
   "execution_count": 77,
   "id": "c98d5680",
   "metadata": {},
   "outputs": [
    {
     "data": {
      "text/plain": [
       "(15000, 64)"
      ]
     },
     "execution_count": 77,
     "metadata": {},
     "output_type": "execute_result"
    }
   ],
   "source": [
    "embeddings.shape"
   ]
  },
  {
   "cell_type": "code",
   "execution_count": 78,
   "id": "fa99bb1d",
   "metadata": {},
   "outputs": [
    {
     "data": {
      "text/plain": [
       "array([  114,     2,   234,     4,  8423,   408,    16,     2,  1966,\n",
       "       11948,   125,  4294,   490,     3,  1873,    30,     6,   232,\n",
       "         216,  4355,   311,  2630,    25,   169,  2234,  8592,  2072,\n",
       "           1,     4,     2,  3264, 10979,     4,     2,  1806,  1143,\n",
       "         184,     6,    24,  3174,    75,   169,    15,   414,    23,\n",
       "          24,  7540,     1,   146,  4514,     4,  2998,   311,   527,\n",
       "           2,  1787,   827,  1747,   458,   226,     2,     1,    44,\n",
       "        5122,   114,     2,  1659,     8,     1,   118,    11, 11884,\n",
       "         398,    73,    30,     2,   176,   987,  2028,  1968,     2,\n",
       "        8254,  1266,    19,   224,     3,   169,  7212,  1666,  1106,\n",
       "          11,    24,  5217,  4086,  8019,  1645,    14,     2,   205,\n",
       "         169, 11832,  1645,     3,  6608,  1645, 11152,    47,  5498,\n",
       "        1932,   169,    89,    91,     2,  5108,   745,  6009,    55,\n",
       "           3, 10664,    10,   162,  5410,     3,     2,  2615,  1378,\n",
       "           8,     5,  4819,   492,    23,  2084,    44,    33,  5232,\n",
       "        1747,    18,    55,     8,  4809,    69,     2,  3902,    25,\n",
       "           8,    37,   153,  2930,  4553,   570,   752,    46,     8,\n",
       "          55,    22,  2962,   103,  2841,   135,    15,  7514,   770,\n",
       "           3,    45,   451,    22,   348,  5164,    24,  2615,     3,\n",
       "          19,   879,    25,     8,    62,     9,    60,     5,   399,\n",
       "          44,   227,    62,    55,    92,   502,    11,     2,  2615,\n",
       "         249,    19,   224,   492,     8,     2,  5410,   510,   946,\n",
       "          22,     2], dtype=int32)"
      ]
     },
     "execution_count": 78,
     "metadata": {},
     "output_type": "execute_result"
    }
   ],
   "source": [
    "X_padded[0]"
   ]
  },
  {
   "cell_type": "code",
   "execution_count": 79,
   "id": "eef81fc6",
   "metadata": {},
   "outputs": [
    {
     "data": {
      "text/plain": [
       "array([[-4.3112006e-02, -4.4179536e-02, -7.0214270e-04, ...,\n",
       "         8.5551960e-03,  3.1492505e-02, -2.9019510e-02],\n",
       "       [ 7.7637374e-02, -1.3925786e-01, -1.2017630e-01, ...,\n",
       "         1.8577665e-01,  1.4772147e-01, -1.0395280e-01],\n",
       "       [ 2.1940565e-01,  1.4035999e-02, -4.8117870e-03, ...,\n",
       "        -1.0244907e-01,  1.1713349e-01,  1.9575730e-01],\n",
       "       ...,\n",
       "       [-1.1126915e+00,  2.7570200e-01, -1.9465690e-01, ...,\n",
       "         6.6796580e-01,  1.0420426e+00, -3.6909923e-01],\n",
       "       [-9.3488410e-02,  3.4691954e-01, -1.2095195e+00, ...,\n",
       "        -1.1609959e-01, -6.4764476e-01, -1.0812663e+00],\n",
       "       [ 3.4972262e-01, -3.1710923e-01,  3.5412454e-03, ...,\n",
       "         7.1736777e-01,  1.3064992e-01, -3.8028170e-02]])"
      ]
     },
     "execution_count": 79,
     "metadata": {},
     "output_type": "execute_result"
    }
   ],
   "source": [
    "embeddings"
   ]
  },
  {
   "cell_type": "code",
   "execution_count": 80,
   "id": "b9545180",
   "metadata": {},
   "outputs": [
    {
     "data": {
      "text/plain": [
       "3.1213214"
      ]
     },
     "execution_count": 80,
     "metadata": {},
     "output_type": "execute_result"
    }
   ],
   "source": [
    "embeddings.max()"
   ]
  },
  {
   "cell_type": "code",
   "execution_count": 81,
   "id": "833d06a1",
   "metadata": {},
   "outputs": [],
   "source": [
    "def embedded_sequence(sequence):\n",
    "    embedded_sequence = []\n",
    "    for index in sequence:\n",
    "        embedded_sequence.append(embeddings[index])\n",
    "    return np.array(embedded_sequence)"
   ]
  },
  {
   "cell_type": "code",
   "execution_count": 82,
   "id": "7631a496",
   "metadata": {},
   "outputs": [],
   "source": [
    "X_embedded = np.array([embedded_sequence(sequence) for sequence in X_padded])"
   ]
  },
  {
   "cell_type": "code",
   "execution_count": 83,
   "id": "695110af",
   "metadata": {},
   "outputs": [
    {
     "data": {
      "text/plain": [
       "(4838, 200, 64)"
      ]
     },
     "execution_count": 83,
     "metadata": {},
     "output_type": "execute_result"
    }
   ],
   "source": [
    "X_embedded.shape"
   ]
  },
  {
   "cell_type": "code",
   "execution_count": 84,
   "id": "ee771243",
   "metadata": {},
   "outputs": [
    {
     "name": "stdout",
     "output_type": "stream",
     "text": [
      "(3628, 200, 64)\n",
      "(1210, 200, 64)\n",
      "3628\n",
      "1210\n"
     ]
    }
   ],
   "source": [
    "X_train, X_test, y_train, y_test = train_test_split(X_embedded, y, test_size=0.25, random_state=42)\n",
    "\n",
    "print(X_train.shape)\n",
    "print(X_test.shape)\n",
    "print(len(y_train))\n",
    "print(len(y_test))"
   ]
  },
  {
   "cell_type": "code",
   "execution_count": 85,
   "id": "ec31c65e",
   "metadata": {},
   "outputs": [],
   "source": [
    "X_train, X_val, y_train, y_val = train_test_split(X_train, y_train, test_size=0.25, random_state=42)"
   ]
  },
  {
   "cell_type": "markdown",
   "id": "d083212a",
   "metadata": {},
   "source": [
    "### ANN with embeddings"
   ]
  },
  {
   "cell_type": "code",
   "execution_count": 132,
   "id": "b400f9fb",
   "metadata": {},
   "outputs": [],
   "source": [
    "ANN_EMB = tf.keras.models.Sequential([\n",
    "    tf.keras.layers.Flatten(), # Flatten Layer\n",
    "    tf.keras.layers.Dropout(0.2),\n",
    "    tf.keras.layers.Dense(16, activation='relu'), # Dense layer 1\n",
    "    tf.keras.layers.Dropout(0.1),\n",
    "    tf.keras.layers.Dense(8, activation='relu'), # Dense layer 1\n",
    "    tf.keras.layers.Dropout(0.1),\n",
    "    tf.keras.layers.Dense(1, activation='sigmoid')\n",
    "])"
   ]
  },
  {
   "cell_type": "code",
   "execution_count": 133,
   "id": "09b82956",
   "metadata": {},
   "outputs": [
    {
     "name": "stdout",
     "output_type": "stream",
     "text": [
      "Epoch 1/25\n",
      "86/86 [==============================] - 0s 3ms/step - loss: 0.5059 - accuracy: 0.7688 - val_loss: 0.4238 - val_accuracy: 0.8214\n",
      "Epoch 2/25\n",
      "86/86 [==============================] - 0s 2ms/step - loss: 0.2899 - accuracy: 0.8739 - val_loss: 0.4568 - val_accuracy: 0.8192\n",
      "Epoch 3/25\n",
      "86/86 [==============================] - 0s 2ms/step - loss: 0.1660 - accuracy: 0.9386 - val_loss: 0.5964 - val_accuracy: 0.8004\n",
      "Epoch 4/25\n",
      "86/86 [==============================] - 0s 2ms/step - loss: 0.0949 - accuracy: 0.9684 - val_loss: 0.6333 - val_accuracy: 0.8126\n",
      "Epoch 5/25\n",
      "86/86 [==============================] - 0s 2ms/step - loss: 0.0655 - accuracy: 0.9765 - val_loss: 0.6727 - val_accuracy: 0.8049\n",
      "Epoch 6/25\n",
      "86/86 [==============================] - 0s 2ms/step - loss: 0.0476 - accuracy: 0.9846 - val_loss: 0.8877 - val_accuracy: 0.8115\n",
      "Epoch 7/25\n",
      "86/86 [==============================] - 0s 2ms/step - loss: 0.0371 - accuracy: 0.9893 - val_loss: 0.9796 - val_accuracy: 0.8093\n",
      "Epoch 8/25\n",
      "86/86 [==============================] - 0s 2ms/step - loss: 0.0283 - accuracy: 0.9923 - val_loss: 1.2183 - val_accuracy: 0.7993\n",
      "Epoch 9/25\n",
      "86/86 [==============================] - 0s 2ms/step - loss: 0.0233 - accuracy: 0.9934 - val_loss: 1.0135 - val_accuracy: 0.8037\n",
      "Epoch 10/25\n",
      "86/86 [==============================] - 0s 2ms/step - loss: 0.0320 - accuracy: 0.9901 - val_loss: 1.1443 - val_accuracy: 0.8049\n",
      "Epoch 11/25\n",
      "86/86 [==============================] - 0s 2ms/step - loss: 0.0235 - accuracy: 0.9934 - val_loss: 1.2200 - val_accuracy: 0.8037\n",
      "Epoch 12/25\n",
      "86/86 [==============================] - 0s 2ms/step - loss: 0.0182 - accuracy: 0.9949 - val_loss: 1.1888 - val_accuracy: 0.8104\n",
      "Epoch 13/25\n",
      "86/86 [==============================] - 0s 2ms/step - loss: 0.0185 - accuracy: 0.9945 - val_loss: 1.2955 - val_accuracy: 0.8137\n",
      "Epoch 14/25\n",
      "86/86 [==============================] - 0s 2ms/step - loss: 0.0088 - accuracy: 0.9974 - val_loss: 1.3301 - val_accuracy: 0.8071\n",
      "Epoch 15/25\n",
      "86/86 [==============================] - 0s 2ms/step - loss: 0.0095 - accuracy: 0.9978 - val_loss: 1.4077 - val_accuracy: 0.8126\n",
      "Epoch 16/25\n",
      "86/86 [==============================] - 0s 2ms/step - loss: 0.0186 - accuracy: 0.9941 - val_loss: 1.5372 - val_accuracy: 0.8126\n",
      "Epoch 17/25\n",
      "86/86 [==============================] - 0s 2ms/step - loss: 0.0170 - accuracy: 0.9941 - val_loss: 1.2671 - val_accuracy: 0.7960\n",
      "Epoch 18/25\n",
      "86/86 [==============================] - 0s 2ms/step - loss: 0.0130 - accuracy: 0.9960 - val_loss: 1.4500 - val_accuracy: 0.7982\n",
      "Epoch 19/25\n",
      "86/86 [==============================] - 0s 2ms/step - loss: 0.0110 - accuracy: 0.9956 - val_loss: 1.6020 - val_accuracy: 0.8037\n",
      "Epoch 20/25\n",
      "86/86 [==============================] - 0s 2ms/step - loss: 0.0151 - accuracy: 0.9945 - val_loss: 1.3610 - val_accuracy: 0.7949\n",
      "Epoch 21/25\n",
      "86/86 [==============================] - 0s 2ms/step - loss: 0.0105 - accuracy: 0.9971 - val_loss: 1.5234 - val_accuracy: 0.8026\n",
      "Epoch 22/25\n",
      "86/86 [==============================] - 0s 2ms/step - loss: 0.0115 - accuracy: 0.9963 - val_loss: 1.7616 - val_accuracy: 0.8148\n",
      "Epoch 23/25\n",
      "86/86 [==============================] - 0s 2ms/step - loss: 0.0079 - accuracy: 0.9982 - val_loss: 1.6653 - val_accuracy: 0.8026\n",
      "Epoch 24/25\n",
      "86/86 [==============================] - 0s 2ms/step - loss: 0.0056 - accuracy: 0.9974 - val_loss: 1.6250 - val_accuracy: 0.8004\n",
      "Epoch 25/25\n",
      "86/86 [==============================] - 0s 2ms/step - loss: 0.0083 - accuracy: 0.9978 - val_loss: 1.8593 - val_accuracy: 0.8170\n"
     ]
    }
   ],
   "source": [
    "loss_function = keras.losses.BinaryCrossentropy(from_logits=False)\n",
    "ANN_EMB.compile(\n",
    "                 loss=loss_function,\n",
    "                 metrics=[\"accuracy\"],\n",
    "                 optimizer='rmsprop'\n",
    "                 )\n",
    "\n",
    "Hist=ANN_EMB.fit(X_train, y_train, epochs=25, validation_data=(X_val, y_val))\n"
   ]
  },
  {
   "cell_type": "code",
   "execution_count": 134,
   "id": "65f13979",
   "metadata": {},
   "outputs": [
    {
     "data": {
      "image/png": "[encoded data removed]",
      "text/plain": [
       "<Figure size 640x480 with 1 Axes>"
      ]
     },
     "metadata": {},
     "output_type": "display_data"
    }
   ],
   "source": [
    "plt.plot(Hist.history['loss'])\n",
    "plt.xlabel('Epochs')\n",
    "plt.ylabel('Training loss')\n",
    "plt.show()"
   ]
  },
  {
   "cell_type": "code",
   "execution_count": 135,
   "id": "a89e8fd6",
   "metadata": {},
   "outputs": [
    {
     "data": {
      "image/png": "[encoded data removed]",
      "text/plain": [
       "<Figure size 640x480 with 1 Axes>"
      ]
     },
     "metadata": {},
     "output_type": "display_data"
    }
   ],
   "source": [
    "# Accuracy of training and validation sets over epochs\n",
    "plt.plot(Hist.history['accuracy'],label = 'Training Accuracy')\n",
    "plt.plot(Hist.history['val_accuracy'],label = 'Validation Accuracy')\n",
    "plt.xlabel('Epochs')\n",
    "plt.ylabel('Accuracy')\n",
    "plt.show()\n"
   ]
  },
  {
   "cell_type": "code",
   "execution_count": 136,
   "id": "72ef42fa",
   "metadata": {},
   "outputs": [
    {
     "name": "stdout",
     "output_type": "stream",
     "text": [
      "38/38 [==============================] - 0s 434us/step\n"
     ]
    },
    {
     "data": {
      "image/png": "[encoded data removed]",
      "text/plain": [
       "<Figure size 640x480 with 2 Axes>"
      ]
     },
     "metadata": {},
     "output_type": "display_data"
    }
   ],
   "source": [
    "y_pred = ANN_EMB.predict(X_test)\n",
    "y_pred = y_pred.reshape(len(y_pred),)\n",
    "y_pred = np.array([round(i) for i in y_pred])\n",
    "\n",
    "### Confusion Matrix\n",
    "cm = confusion_matrix(y_test,y_pred)\n",
    "\n",
    "ax= plt.subplot()\n",
    "sns.heatmap(cm, annot=True, fmt='g', ax=ax, cmap='Blues') \n",
    "plt.title(\"Confusion Matrix\")\n",
    "plt.show()\n"
   ]
  },
  {
   "cell_type": "code",
   "execution_count": 137,
   "id": "202d1811",
   "metadata": {},
   "outputs": [
    {
     "data": {
      "text/plain": [
       "1210"
      ]
     },
     "execution_count": 137,
     "metadata": {},
     "output_type": "execute_result"
    }
   ],
   "source": [
    "len(y_pred)"
   ]
  },
  {
   "cell_type": "code",
   "execution_count": 138,
   "id": "0fa474af",
   "metadata": {},
   "outputs": [],
   "source": [
    "accuracy = (754+220)/(1210)"
   ]
  },
  {
   "cell_type": "code",
   "execution_count": 139,
   "id": "45a2e41d",
   "metadata": {},
   "outputs": [
    {
     "data": {
      "text/plain": [
       "0.8049586776859504"
      ]
     },
     "execution_count": 139,
     "metadata": {},
     "output_type": "execute_result"
    }
   ],
   "source": [
    "accuracy"
   ]
  },
  {
   "cell_type": "code",
   "execution_count": 140,
   "id": "41f0c7fa",
   "metadata": {},
   "outputs": [
    {
     "name": "stdout",
     "output_type": "stream",
     "text": [
      "Model: \"sequential_23\"\n",
      "_________________________________________________________________\n",
      " Layer (type)                Output Shape              Param #   \n",
      "=================================================================\n",
      " flatten_5 (Flatten)         (None, 12800)             0         \n",
      "                                                                 \n",
      " dropout_36 (Dropout)        (None, 12800)             0         \n",
      "                                                                 \n",
      " dense_50 (Dense)            (None, 16)                204816    \n",
      "                                                                 \n",
      " dropout_37 (Dropout)        (None, 16)                0         \n",
      "                                                                 \n",
      " dense_51 (Dense)            (None, 8)                 136       \n",
      "                                                                 \n",
      " dropout_38 (Dropout)        (None, 8)                 0         \n",
      "                                                                 \n",
      " dense_52 (Dense)            (None, 1)                 9         \n",
      "                                                                 \n",
      "=================================================================\n",
      "Total params: 204961 (800.63 KB)\n",
      "Trainable params: 204961 (800.63 KB)\n",
      "Non-trainable params: 0 (0.00 Byte)\n",
      "_________________________________________________________________\n"
     ]
    }
   ],
   "source": [
    "ANN_EMB.summary()"
   ]
  },
  {
   "cell_type": "markdown",
   "id": "8df73855",
   "metadata": {},
   "source": [
    "### RNN with embeddings"
   ]
  },
  {
   "cell_type": "code",
   "execution_count": 113,
   "id": "7c85e98f",
   "metadata": {},
   "outputs": [],
   "source": [
    "RNN_EMB = tf.keras.models.Sequential([\n",
    "    tf.keras.layers.SimpleRNN(units =32,activation = 'relu',dropout=0.2),\n",
    "    tf.keras.layers.Dense(16, activation='relu'), # Dense layer 1\n",
    "    tf.keras.layers.Dropout(0.1),\n",
    "    tf.keras.layers.Dense(1, activation='sigmoid')\n",
    "])"
   ]
  },
  {
   "cell_type": "code",
   "execution_count": 114,
   "id": "85319c96",
   "metadata": {},
   "outputs": [
    {
     "name": "stdout",
     "output_type": "stream",
     "text": [
      "Epoch 1/25\n",
      "86/86 [==============================] - 1s 11ms/step - loss: 0.6686 - accuracy: 0.6354 - val_loss: 0.6241 - val_accuracy: 0.6913\n",
      "Epoch 2/25\n",
      "86/86 [==============================] - 1s 10ms/step - loss: 0.6275 - accuracy: 0.6876 - val_loss: 0.6210 - val_accuracy: 0.6913\n",
      "Epoch 3/25\n",
      "86/86 [==============================] - 1s 10ms/step - loss: 0.6205 - accuracy: 0.6876 - val_loss: 0.6166 - val_accuracy: 0.6913\n",
      "Epoch 4/25\n",
      "86/86 [==============================] - 1s 10ms/step - loss: 0.6147 - accuracy: 0.6876 - val_loss: 0.6143 - val_accuracy: 0.6913\n",
      "Epoch 5/25\n",
      "86/86 [==============================] - 1s 10ms/step - loss: 0.6084 - accuracy: 0.6880 - val_loss: 0.6117 - val_accuracy: 0.6946\n",
      "Epoch 6/25\n",
      "86/86 [==============================] - 1s 10ms/step - loss: 0.6114 - accuracy: 0.6920 - val_loss: 0.5612 - val_accuracy: 0.7012\n",
      "Epoch 7/25\n",
      "86/86 [==============================] - 1s 10ms/step - loss: 0.5764 - accuracy: 0.7008 - val_loss: 0.5911 - val_accuracy: 0.7012\n",
      "Epoch 8/25\n",
      "86/86 [==============================] - 1s 10ms/step - loss: 0.5695 - accuracy: 0.6961 - val_loss: 0.5409 - val_accuracy: 0.7045\n",
      "Epoch 9/25\n",
      "86/86 [==============================] - 1s 10ms/step - loss: 0.5916 - accuracy: 0.7008 - val_loss: 0.5149 - val_accuracy: 0.7045\n",
      "Epoch 10/25\n",
      "86/86 [==============================] - 1s 10ms/step - loss: 0.5463 - accuracy: 0.6990 - val_loss: 0.5668 - val_accuracy: 0.7023\n",
      "Epoch 11/25\n",
      "86/86 [==============================] - 1s 10ms/step - loss: 0.5067 - accuracy: 0.7100 - val_loss: 0.5463 - val_accuracy: 0.6692\n",
      "Epoch 12/25\n",
      "86/86 [==============================] - 1s 10ms/step - loss: 0.5828 - accuracy: 0.7523 - val_loss: 0.4640 - val_accuracy: 0.7707\n",
      "Epoch 13/25\n",
      "86/86 [==============================] - 1s 10ms/step - loss: 0.5295 - accuracy: 0.7023 - val_loss: 0.4796 - val_accuracy: 0.7696\n",
      "Epoch 14/25\n",
      "86/86 [==============================] - 1s 10ms/step - loss: 0.5261 - accuracy: 0.7133 - val_loss: 0.5873 - val_accuracy: 0.7916\n",
      "Epoch 15/25\n",
      "86/86 [==============================] - 1s 10ms/step - loss: 0.4965 - accuracy: 0.7630 - val_loss: 0.5690 - val_accuracy: 0.6593\n",
      "Epoch 16/25\n",
      "86/86 [==============================] - 1s 10ms/step - loss: 0.5121 - accuracy: 0.7343 - val_loss: 0.4664 - val_accuracy: 0.7806\n",
      "Epoch 17/25\n",
      "86/86 [==============================] - 1s 10ms/step - loss: 0.4866 - accuracy: 0.7633 - val_loss: 0.4604 - val_accuracy: 0.7993\n",
      "Epoch 18/25\n",
      "86/86 [==============================] - 1s 10ms/step - loss: 0.5049 - accuracy: 0.7468 - val_loss: 0.5003 - val_accuracy: 0.7718\n",
      "Epoch 19/25\n",
      "86/86 [==============================] - 1s 10ms/step - loss: 0.4877 - accuracy: 0.7872 - val_loss: 0.4710 - val_accuracy: 0.7663\n",
      "Epoch 20/25\n",
      "86/86 [==============================] - 1s 10ms/step - loss: 0.4781 - accuracy: 0.7607 - val_loss: 0.5855 - val_accuracy: 0.7343\n",
      "Epoch 21/25\n",
      "86/86 [==============================] - 1s 10ms/step - loss: 0.5107 - accuracy: 0.7218 - val_loss: 0.4693 - val_accuracy: 0.7541\n",
      "Epoch 22/25\n",
      "86/86 [==============================] - 1s 10ms/step - loss: 0.4712 - accuracy: 0.7865 - val_loss: 0.4578 - val_accuracy: 0.8015\n",
      "Epoch 23/25\n",
      "86/86 [==============================] - 1s 10ms/step - loss: 0.4762 - accuracy: 0.7685 - val_loss: 0.4950 - val_accuracy: 0.7486\n",
      "Epoch 24/25\n",
      "86/86 [==============================] - 1s 11ms/step - loss: 0.4738 - accuracy: 0.7637 - val_loss: 0.4764 - val_accuracy: 0.7740\n",
      "Epoch 25/25\n",
      "86/86 [==============================] - 1s 10ms/step - loss: 0.5181 - accuracy: 0.6957 - val_loss: 0.4639 - val_accuracy: 0.7839\n"
     ]
    }
   ],
   "source": [
    "loss_function = keras.losses.BinaryCrossentropy(from_logits=False)\n",
    "RNN_EMB.compile(\n",
    "                 loss=loss_function,\n",
    "                 metrics=[\"accuracy\"],\n",
    "                 optimizer='rmsprop'\n",
    "                 )\n",
    "\n",
    "Hist=RNN_EMB.fit(X_train, y_train, epochs=25, validation_data=(X_val, y_val))\n"
   ]
  },
  {
   "cell_type": "code",
   "execution_count": 115,
   "id": "54b24391",
   "metadata": {},
   "outputs": [
    {
     "data": {
      "image/png": "[encoded data removed]",
      "text/plain": [
       "<Figure size 640x480 with 1 Axes>"
      ]
     },
     "metadata": {},
     "output_type": "display_data"
    }
   ],
   "source": [
    "plt.plot(Hist.history['loss'])\n",
    "plt.xlabel('Epochs')\n",
    "plt.ylabel('Training loss')\n",
    "plt.show()"
   ]
  },
  {
   "cell_type": "code",
   "execution_count": 116,
   "id": "5f772a9a",
   "metadata": {},
   "outputs": [
    {
     "data": {
      "image/png": "[encoded data removed]",
      "text/plain": [
       "<Figure size 640x480 with 1 Axes>"
      ]
     },
     "metadata": {},
     "output_type": "display_data"
    }
   ],
   "source": [
    "# Accuracy of training and validation sets over epochs\n",
    "plt.plot(Hist.history['accuracy'],label = 'Training Accuracy')\n",
    "plt.plot(Hist.history['val_accuracy'],label = 'Validation Accuracy')\n",
    "plt.xlabel('Epochs')\n",
    "plt.ylabel('Accuracy')\n",
    "plt.show()\n"
   ]
  },
  {
   "cell_type": "code",
   "execution_count": 117,
   "id": "c2dcd52f",
   "metadata": {},
   "outputs": [
    {
     "name": "stdout",
     "output_type": "stream",
     "text": [
      "38/38 [==============================] - 0s 2ms/step\n"
     ]
    },
    {
     "data": {
      "image/png": "[encoded data removed]",
      "text/plain": [
       "<Figure size 640x480 with 2 Axes>"
      ]
     },
     "metadata": {},
     "output_type": "display_data"
    }
   ],
   "source": [
    "y_pred = RNN_EMB.predict(X_test)\n",
    "y_pred = y_pred.reshape(len(y_pred),)\n",
    "y_pred = np.array([round(i) for i in y_pred])\n",
    "\n",
    "### Confusion Matrix\n",
    "cm = confusion_matrix(y_test,y_pred)\n",
    "\n",
    "ax= plt.subplot()\n",
    "sns.heatmap(cm, annot=True, fmt='g', ax=ax, cmap='Blues') \n",
    "plt.title(\"Confusion Matrix\")\n",
    "plt.show()\n"
   ]
  },
  {
   "cell_type": "code",
   "execution_count": 118,
   "id": "b5fd5aab",
   "metadata": {},
   "outputs": [
    {
     "data": {
      "text/plain": [
       "1210"
      ]
     },
     "execution_count": 118,
     "metadata": {},
     "output_type": "execute_result"
    }
   ],
   "source": [
    "len(y_pred)"
   ]
  },
  {
   "cell_type": "code",
   "execution_count": 119,
   "id": "14c7b826",
   "metadata": {},
   "outputs": [],
   "source": [
    "accuracy = (657+257)/(1210)"
   ]
  },
  {
   "cell_type": "code",
   "execution_count": 120,
   "id": "b510beb7",
   "metadata": {},
   "outputs": [
    {
     "data": {
      "text/plain": [
       "0.7553719008264462"
      ]
     },
     "execution_count": 120,
     "metadata": {},
     "output_type": "execute_result"
    }
   ],
   "source": [
    "accuracy"
   ]
  },
  {
   "cell_type": "code",
   "execution_count": 122,
   "id": "9f51b5e8",
   "metadata": {},
   "outputs": [
    {
     "name": "stdout",
     "output_type": "stream",
     "text": [
      "Model: \"sequential_21\"\n",
      "_________________________________________________________________\n",
      " Layer (type)                Output Shape              Param #   \n",
      "=================================================================\n",
      " simple_rnn_4 (SimpleRNN)    (None, 32)                3104      \n",
      "                                                                 \n",
      " dense_46 (Dense)            (None, 16)                528       \n",
      "                                                                 \n",
      " dropout_32 (Dropout)        (None, 16)                0         \n",
      "                                                                 \n",
      " dense_47 (Dense)            (None, 1)                 17        \n",
      "                                                                 \n",
      "=================================================================\n",
      "Total params: 3649 (14.25 KB)\n",
      "Trainable params: 3649 (14.25 KB)\n",
      "Non-trainable params: 0 (0.00 Byte)\n",
      "_________________________________________________________________\n"
     ]
    }
   ],
   "source": [
    "RNN_EMB.summary()"
   ]
  },
  {
   "cell_type": "code",
   "execution_count": null,
   "id": "58782e2b",
   "metadata": {},
   "outputs": [],
   "source": []
  },
  {
   "cell_type": "markdown",
   "id": "bb335d21",
   "metadata": {},
   "source": [
    "### CNN Embeddings"
   ]
  },
  {
   "cell_type": "code",
   "execution_count": 124,
   "id": "fa6f4585",
   "metadata": {},
   "outputs": [],
   "source": [
    "CNN_EMB = tf.keras.models.Sequential([\n",
    "    tf.keras.layers.Conv1D(32, 5,padding = 'same',activation = 'relu'),\n",
    "    tf.keras.layers.MaxPool1D(2),\n",
    "    tf.keras.layers.Dropout(0.2),\n",
    "    tf.keras.layers.Conv1D(16,3,padding = 'same',activation = 'relu'),\n",
    "    tf.keras.layers.MaxPool1D(2),\n",
    "    tf.keras.layers.Flatten(), # Flatten Layer\n",
    "    tf.keras.layers.Dropout(0.2),\n",
    "    tf.keras.layers.Dense(8, activation='relu'), # Dense layer 1\n",
    "    tf.keras.layers.Dropout(0.2),\n",
    "    tf.keras.layers.Dense(1, activation='sigmoid')\n",
    "])"
   ]
  },
  {
   "cell_type": "code",
   "execution_count": 125,
   "id": "ec22661c",
   "metadata": {},
   "outputs": [
    {
     "name": "stdout",
     "output_type": "stream",
     "text": [
      "Epoch 1/25\n",
      "86/86 [==============================] - 1s 5ms/step - loss: 0.5712 - accuracy: 0.7089 - val_loss: 0.6933 - val_accuracy: 0.5369\n",
      "Epoch 2/25\n",
      "86/86 [==============================] - 0s 5ms/step - loss: 0.4454 - accuracy: 0.7964 - val_loss: 0.3974 - val_accuracy: 0.8203\n",
      "Epoch 3/25\n",
      "86/86 [==============================] - 0s 4ms/step - loss: 0.3976 - accuracy: 0.8188 - val_loss: 0.3966 - val_accuracy: 0.8258\n",
      "Epoch 4/25\n",
      "86/86 [==============================] - 0s 4ms/step - loss: 0.3825 - accuracy: 0.8361 - val_loss: 0.5364 - val_accuracy: 0.7806\n",
      "Epoch 5/25\n",
      "86/86 [==============================] - 0s 4ms/step - loss: 0.3490 - accuracy: 0.8537 - val_loss: 0.3892 - val_accuracy: 0.8291\n",
      "Epoch 6/25\n",
      "86/86 [==============================] - 0s 4ms/step - loss: 0.3310 - accuracy: 0.8578 - val_loss: 0.4811 - val_accuracy: 0.8082\n",
      "Epoch 7/25\n",
      "86/86 [==============================] - 0s 4ms/step - loss: 0.3249 - accuracy: 0.8622 - val_loss: 0.5599 - val_accuracy: 0.7078\n",
      "Epoch 8/25\n",
      "86/86 [==============================] - 0s 4ms/step - loss: 0.3048 - accuracy: 0.8695 - val_loss: 0.3597 - val_accuracy: 0.8401\n",
      "Epoch 9/25\n",
      "86/86 [==============================] - 0s 4ms/step - loss: 0.2873 - accuracy: 0.8813 - val_loss: 0.3705 - val_accuracy: 0.8523\n",
      "Epoch 10/25\n",
      "86/86 [==============================] - 0s 4ms/step - loss: 0.2669 - accuracy: 0.8912 - val_loss: 0.4614 - val_accuracy: 0.8214\n",
      "Epoch 11/25\n",
      "86/86 [==============================] - 0s 4ms/step - loss: 0.2594 - accuracy: 0.8927 - val_loss: 0.4246 - val_accuracy: 0.8501\n",
      "Epoch 12/25\n",
      "86/86 [==============================] - 0s 4ms/step - loss: 0.2239 - accuracy: 0.9019 - val_loss: 0.6934 - val_accuracy: 0.6781\n",
      "Epoch 13/25\n",
      "86/86 [==============================] - 0s 4ms/step - loss: 0.2297 - accuracy: 0.9103 - val_loss: 0.3734 - val_accuracy: 0.8523\n",
      "Epoch 14/25\n",
      "86/86 [==============================] - 0s 4ms/step - loss: 0.2028 - accuracy: 0.9250 - val_loss: 0.6753 - val_accuracy: 0.7839\n",
      "Epoch 15/25\n",
      "86/86 [==============================] - 0s 4ms/step - loss: 0.1964 - accuracy: 0.9214 - val_loss: 0.5386 - val_accuracy: 0.8225\n",
      "Epoch 16/25\n",
      "86/86 [==============================] - 0s 5ms/step - loss: 0.1761 - accuracy: 0.9291 - val_loss: 0.4356 - val_accuracy: 0.8567\n",
      "Epoch 17/25\n",
      "86/86 [==============================] - 0s 4ms/step - loss: 0.1639 - accuracy: 0.9419 - val_loss: 0.4039 - val_accuracy: 0.8589\n",
      "Epoch 18/25\n",
      "86/86 [==============================] - 0s 4ms/step - loss: 0.1592 - accuracy: 0.9379 - val_loss: 0.5443 - val_accuracy: 0.8412\n",
      "Epoch 19/25\n",
      "86/86 [==============================] - 0s 4ms/step - loss: 0.1521 - accuracy: 0.9390 - val_loss: 0.4323 - val_accuracy: 0.8523\n",
      "Epoch 20/25\n",
      "86/86 [==============================] - 0s 4ms/step - loss: 0.1499 - accuracy: 0.9452 - val_loss: 0.4078 - val_accuracy: 0.8589\n",
      "Epoch 21/25\n",
      "86/86 [==============================] - 0s 4ms/step - loss: 0.1326 - accuracy: 0.9522 - val_loss: 0.4274 - val_accuracy: 0.8280\n",
      "Epoch 22/25\n",
      "86/86 [==============================] - 0s 4ms/step - loss: 0.1083 - accuracy: 0.9629 - val_loss: 0.4339 - val_accuracy: 0.8600\n",
      "Epoch 23/25\n",
      "86/86 [==============================] - 0s 4ms/step - loss: 0.1189 - accuracy: 0.9585 - val_loss: 0.5219 - val_accuracy: 0.8578\n",
      "Epoch 24/25\n",
      "86/86 [==============================] - 0s 4ms/step - loss: 0.0953 - accuracy: 0.9651 - val_loss: 0.4424 - val_accuracy: 0.8534\n",
      "Epoch 25/25\n",
      "86/86 [==============================] - 0s 4ms/step - loss: 0.0989 - accuracy: 0.9647 - val_loss: 0.4569 - val_accuracy: 0.8423\n"
     ]
    }
   ],
   "source": [
    "loss_function = keras.losses.BinaryCrossentropy(from_logits=False)\n",
    "CNN_EMB.compile(\n",
    "                 loss=loss_function,\n",
    "                 metrics=[\"accuracy\"],\n",
    "                 optimizer='rmsprop'\n",
    "                 )\n",
    "\n",
    "Hist=CNN_EMB.fit(X_train, y_train, epochs=25, validation_data=(X_val, y_val))\n"
   ]
  },
  {
   "cell_type": "code",
   "execution_count": 126,
   "id": "f5f606e0",
   "metadata": {},
   "outputs": [
    {
     "name": "stdout",
     "output_type": "stream",
     "text": [
      "Model: \"sequential_22\"\n",
      "_________________________________________________________________\n",
      " Layer (type)                Output Shape              Param #   \n",
      "=================================================================\n",
      " conv1d_1 (Conv1D)           (None, 200, 32)           10272     \n",
      "                                                                 \n",
      " max_pooling1d_1 (MaxPoolin  (None, 100, 32)           0         \n",
      " g1D)                                                            \n",
      "                                                                 \n",
      " dropout_33 (Dropout)        (None, 100, 32)           0         \n",
      "                                                                 \n",
      " conv1d_2 (Conv1D)           (None, 100, 16)           1552      \n",
      "                                                                 \n",
      " max_pooling1d_2 (MaxPoolin  (None, 50, 16)            0         \n",
      " g1D)                                                            \n",
      "                                                                 \n",
      " flatten_4 (Flatten)         (None, 800)               0         \n",
      "                                                                 \n",
      " dropout_34 (Dropout)        (None, 800)               0         \n",
      "                                                                 \n",
      " dense_48 (Dense)            (None, 8)                 6408      \n",
      "                                                                 \n",
      " dropout_35 (Dropout)        (None, 8)                 0         \n",
      "                                                                 \n",
      " dense_49 (Dense)            (None, 1)                 9         \n",
      "                                                                 \n",
      "=================================================================\n",
      "Total params: 18241 (71.25 KB)\n",
      "Trainable params: 18241 (71.25 KB)\n",
      "Non-trainable params: 0 (0.00 Byte)\n",
      "_________________________________________________________________\n"
     ]
    }
   ],
   "source": [
    "CNN_EMB.summary()"
   ]
  },
  {
   "cell_type": "code",
   "execution_count": 127,
   "id": "a51514d3",
   "metadata": {},
   "outputs": [
    {
     "data": {
      "image/png": "[encoded data removed]",
      "text/plain": [
       "<Figure size 640x480 with 1 Axes>"
      ]
     },
     "metadata": {},
     "output_type": "display_data"
    }
   ],
   "source": [
    "plt.plot(Hist.history['loss'])\n",
    "plt.xlabel('Epochs')\n",
    "plt.ylabel('Training loss')\n",
    "plt.show()"
   ]
  },
  {
   "cell_type": "code",
   "execution_count": 128,
   "id": "d9fe4a11",
   "metadata": {},
   "outputs": [
    {
     "data": {
      "image/png": "[encoded data removed]",
      "text/plain": [
       "<Figure size 640x480 with 1 Axes>"
      ]
     },
     "metadata": {},
     "output_type": "display_data"
    }
   ],
   "source": [
    "# Accuracy of training and validation sets over epochs\n",
    "plt.plot(Hist.history['accuracy'],label = 'Training Accuracy')\n",
    "plt.plot(Hist.history['val_accuracy'],label = 'Validation Accuracy')\n",
    "plt.xlabel('Epochs')\n",
    "plt.ylabel('Accuracy')\n",
    "plt.show()\n"
   ]
  },
  {
   "cell_type": "code",
   "execution_count": 129,
   "id": "016cf9d3",
   "metadata": {},
   "outputs": [
    {
     "name": "stdout",
     "output_type": "stream",
     "text": [
      "38/38 [==============================] - 0s 1ms/step\n"
     ]
    },
    {
     "data": {
      "image/png": "[encoded data removed]",
      "text/plain": [
       "<Figure size 640x480 with 2 Axes>"
      ]
     },
     "metadata": {},
     "output_type": "display_data"
    }
   ],
   "source": [
    "y_pred = CNN_EMB.predict(X_test)\n",
    "y_pred = y_pred.reshape(len(y_pred),)\n",
    "y_pred = np.array([round(i) for i in y_pred])\n",
    "\n",
    "### Confusion Matrix\n",
    "cm = confusion_matrix(y_test,y_pred)\n",
    "\n",
    "ax= plt.subplot()\n",
    "sns.heatmap(cm, annot=True, fmt='g', ax=ax, cmap='Blues') \n",
    "plt.title(\"Confusion Matrix\")\n",
    "plt.show()\n"
   ]
  },
  {
   "cell_type": "code",
   "execution_count": 130,
   "id": "846ce2bc",
   "metadata": {},
   "outputs": [],
   "source": [
    "accuracy = (734+288)/(1210)"
   ]
  },
  {
   "cell_type": "code",
   "execution_count": 131,
   "id": "03533554",
   "metadata": {},
   "outputs": [
    {
     "data": {
      "text/plain": [
       "0.8446280991735537"
      ]
     },
     "execution_count": 131,
     "metadata": {},
     "output_type": "execute_result"
    }
   ],
   "source": [
    "accuracy"
   ]
  },
  {
   "cell_type": "markdown",
   "id": "8a67c102",
   "metadata": {},
   "source": [
    "### Further Analysis"
   ]
  },
  {
   "cell_type": "code",
   "execution_count": 163,
   "id": "8bc8863f",
   "metadata": {},
   "outputs": [
    {
     "name": "stdout",
     "output_type": "stream",
     "text": [
      "152/152 [==============================] - 0s 1ms/step\n"
     ]
    }
   ],
   "source": [
    "pred = CNN_EMB.predict(X_embedded)"
   ]
  },
  {
   "cell_type": "code",
   "execution_count": 165,
   "id": "b91d55f4",
   "metadata": {},
   "outputs": [],
   "source": [
    "pred = pred.reshape(len(pred),)\n",
    "pred = np.array([round(i) for i in pred])"
   ]
  },
  {
   "cell_type": "code",
   "execution_count": 166,
   "id": "027be345",
   "metadata": {},
   "outputs": [
    {
     "data": {
      "text/plain": [
       "array([0, 0, 0, ..., 0, 1, 0])"
      ]
     },
     "execution_count": 166,
     "metadata": {},
     "output_type": "execute_result"
    }
   ],
   "source": [
    "pred"
   ]
  },
  {
   "cell_type": "code",
   "execution_count": 167,
   "id": "5a7b4fda",
   "metadata": {},
   "outputs": [
    {
     "data": {
      "text/html": [
       "<div>\n",
       "<style scoped>\n",
       "    .dataframe tbody tr th:only-of-type {\n",
       "        vertical-align: middle;\n",
       "    }\n",
       "\n",
       "    .dataframe tbody tr th {\n",
       "        vertical-align: top;\n",
       "    }\n",
       "\n",
       "    .dataframe thead th {\n",
       "        text-align: right;\n",
       "    }\n",
       "</style>\n",
       "<table border=\"1\" class=\"dataframe\">\n",
       "  <thead>\n",
       "    <tr style=\"text-align: right;\">\n",
       "      <th></th>\n",
       "      <th>author</th>\n",
       "      <th>content</th>\n",
       "      <th>poem name</th>\n",
       "      <th>age</th>\n",
       "      <th>type</th>\n",
       "      <th>pred</th>\n",
       "    </tr>\n",
       "  </thead>\n",
       "  <tbody>\n",
       "    <tr>\n",
       "      <th>0</th>\n",
       "      <td>WILLIAM SHAKESPEARE</td>\n",
       "      <td>Let the bird of loudest lay\\r\\nOn the sole Ara...</td>\n",
       "      <td>The Phoenix and the Turtle</td>\n",
       "      <td>Renaissance</td>\n",
       "      <td>Mythology &amp; Folklore</td>\n",
       "      <td>0.001388</td>\n",
       "    </tr>\n",
       "    <tr>\n",
       "      <th>1</th>\n",
       "      <td>DUCHESS OF NEWCASTLE MARGARET CAVENDISH</td>\n",
       "      <td>Sir Charles into my chamber coming in,\\r\\nWhen...</td>\n",
       "      <td>An Epilogue to the Above</td>\n",
       "      <td>Renaissance</td>\n",
       "      <td>Mythology &amp; Folklore</td>\n",
       "      <td>0.017350</td>\n",
       "    </tr>\n",
       "    <tr>\n",
       "      <th>2</th>\n",
       "      <td>THOMAS BASTARD</td>\n",
       "      <td>Our vice runs beyond all that old men saw,\\r\\n...</td>\n",
       "      <td>Book 7, Epigram 42</td>\n",
       "      <td>Renaissance</td>\n",
       "      <td>Mythology &amp; Folklore</td>\n",
       "      <td>0.085711</td>\n",
       "    </tr>\n",
       "    <tr>\n",
       "      <th>3</th>\n",
       "      <td>EDMUND SPENSER</td>\n",
       "      <td>Lo I the man, whose Muse whilome did maske,\\r\\...</td>\n",
       "      <td>from The Faerie Queene: Book I, Canto I</td>\n",
       "      <td>Renaissance</td>\n",
       "      <td>Mythology &amp; Folklore</td>\n",
       "      <td>0.000362</td>\n",
       "    </tr>\n",
       "    <tr>\n",
       "      <th>4</th>\n",
       "      <td>RICHARD BARNFIELD</td>\n",
       "      <td>Long have I longd to see my love againe,\\r\\nSt...</td>\n",
       "      <td>Sonnet 16</td>\n",
       "      <td>Renaissance</td>\n",
       "      <td>Mythology &amp; Folklore</td>\n",
       "      <td>0.005216</td>\n",
       "    </tr>\n",
       "  </tbody>\n",
       "</table>\n",
       "</div>"
      ],
      "text/plain": [
       "                                    author  \\\n",
       "0                      WILLIAM SHAKESPEARE   \n",
       "1  DUCHESS OF NEWCASTLE MARGARET CAVENDISH   \n",
       "2                           THOMAS BASTARD   \n",
       "3                           EDMUND SPENSER   \n",
       "4                        RICHARD BARNFIELD   \n",
       "\n",
       "                                             content  \\\n",
       "0  Let the bird of loudest lay\\r\\nOn the sole Ara...   \n",
       "1  Sir Charles into my chamber coming in,\\r\\nWhen...   \n",
       "2  Our vice runs beyond all that old men saw,\\r\\n...   \n",
       "3  Lo I the man, whose Muse whilome did maske,\\r\\...   \n",
       "4  Long have I longd to see my love againe,\\r\\nSt...   \n",
       "\n",
       "                                 poem name          age                  type  \\\n",
       "0               The Phoenix and the Turtle  Renaissance  Mythology & Folklore   \n",
       "1                 An Epilogue to the Above  Renaissance  Mythology & Folklore   \n",
       "2                       Book 7, Epigram 42  Renaissance  Mythology & Folklore   \n",
       "3  from The Faerie Queene: Book I, Canto I  Renaissance  Mythology & Folklore   \n",
       "4                                Sonnet 16  Renaissance  Mythology & Folklore   \n",
       "\n",
       "       pred  \n",
       "0  0.001388  \n",
       "1  0.017350  \n",
       "2  0.085711  \n",
       "3  0.000362  \n",
       "4  0.005216  "
      ]
     },
     "execution_count": 167,
     "metadata": {},
     "output_type": "execute_result"
    }
   ],
   "source": [
    "df.head()"
   ]
  },
  {
   "cell_type": "code",
   "execution_count": 194,
   "id": "cc174ec2",
   "metadata": {},
   "outputs": [
    {
     "data": {
      "text/html": [
       "<div>\n",
       "<style scoped>\n",
       "    .dataframe tbody tr th:only-of-type {\n",
       "        vertical-align: middle;\n",
       "    }\n",
       "\n",
       "    .dataframe tbody tr th {\n",
       "        vertical-align: top;\n",
       "    }\n",
       "\n",
       "    .dataframe thead th {\n",
       "        text-align: right;\n",
       "    }\n",
       "</style>\n",
       "<table border=\"1\" class=\"dataframe\">\n",
       "  <thead>\n",
       "    <tr style=\"text-align: right;\">\n",
       "      <th></th>\n",
       "      <th>author</th>\n",
       "      <th>content</th>\n",
       "      <th>poem name</th>\n",
       "      <th>age</th>\n",
       "      <th>type</th>\n",
       "      <th>pred</th>\n",
       "    </tr>\n",
       "  </thead>\n",
       "  <tbody>\n",
       "    <tr>\n",
       "      <th>0</th>\n",
       "      <td>WILLIAM SHAKESPEARE</td>\n",
       "      <td>Let the bird of loudest lay\\r\\nOn the sole Ara...</td>\n",
       "      <td>The Phoenix and the Turtle</td>\n",
       "      <td>Renaissance</td>\n",
       "      <td>Mythology &amp; Folklore</td>\n",
       "      <td>0</td>\n",
       "    </tr>\n",
       "    <tr>\n",
       "      <th>1</th>\n",
       "      <td>DUCHESS OF NEWCASTLE MARGARET CAVENDISH</td>\n",
       "      <td>Sir Charles into my chamber coming in,\\r\\nWhen...</td>\n",
       "      <td>An Epilogue to the Above</td>\n",
       "      <td>Renaissance</td>\n",
       "      <td>Mythology &amp; Folklore</td>\n",
       "      <td>0</td>\n",
       "    </tr>\n",
       "    <tr>\n",
       "      <th>2</th>\n",
       "      <td>THOMAS BASTARD</td>\n",
       "      <td>Our vice runs beyond all that old men saw,\\r\\n...</td>\n",
       "      <td>Book 7, Epigram 42</td>\n",
       "      <td>Renaissance</td>\n",
       "      <td>Mythology &amp; Folklore</td>\n",
       "      <td>0</td>\n",
       "    </tr>\n",
       "    <tr>\n",
       "      <th>3</th>\n",
       "      <td>EDMUND SPENSER</td>\n",
       "      <td>Lo I the man, whose Muse whilome did maske,\\r\\...</td>\n",
       "      <td>from The Faerie Queene: Book I, Canto I</td>\n",
       "      <td>Renaissance</td>\n",
       "      <td>Mythology &amp; Folklore</td>\n",
       "      <td>0</td>\n",
       "    </tr>\n",
       "    <tr>\n",
       "      <th>4</th>\n",
       "      <td>RICHARD BARNFIELD</td>\n",
       "      <td>Long have I longd to see my love againe,\\r\\nSt...</td>\n",
       "      <td>Sonnet 16</td>\n",
       "      <td>Renaissance</td>\n",
       "      <td>Mythology &amp; Folklore</td>\n",
       "      <td>0</td>\n",
       "    </tr>\n",
       "  </tbody>\n",
       "</table>\n",
       "</div>"
      ],
      "text/plain": [
       "                                    author  \\\n",
       "0                      WILLIAM SHAKESPEARE   \n",
       "1  DUCHESS OF NEWCASTLE MARGARET CAVENDISH   \n",
       "2                           THOMAS BASTARD   \n",
       "3                           EDMUND SPENSER   \n",
       "4                        RICHARD BARNFIELD   \n",
       "\n",
       "                                             content  \\\n",
       "0  Let the bird of loudest lay\\r\\nOn the sole Ara...   \n",
       "1  Sir Charles into my chamber coming in,\\r\\nWhen...   \n",
       "2  Our vice runs beyond all that old men saw,\\r\\n...   \n",
       "3  Lo I the man, whose Muse whilome did maske,\\r\\...   \n",
       "4  Long have I longd to see my love againe,\\r\\nSt...   \n",
       "\n",
       "                                 poem name          age                  type  \\\n",
       "0               The Phoenix and the Turtle  Renaissance  Mythology & Folklore   \n",
       "1                 An Epilogue to the Above  Renaissance  Mythology & Folklore   \n",
       "2                       Book 7, Epigram 42  Renaissance  Mythology & Folklore   \n",
       "3  from The Faerie Queene: Book I, Canto I  Renaissance  Mythology & Folklore   \n",
       "4                                Sonnet 16  Renaissance  Mythology & Folklore   \n",
       "\n",
       "   pred  \n",
       "0     0  \n",
       "1     0  \n",
       "2     0  \n",
       "3     0  \n",
       "4     0  "
      ]
     },
     "execution_count": 194,
     "metadata": {},
     "output_type": "execute_result"
    }
   ],
   "source": [
    "df['author'] = df['author'].str.upper()\n",
    "df.head()"
   ]
  },
  {
   "cell_type": "code",
   "execution_count": 195,
   "id": "ba0652cc",
   "metadata": {},
   "outputs": [],
   "source": [
    "df['pred'] = pred"
   ]
  },
  {
   "cell_type": "code",
   "execution_count": 196,
   "id": "2c00a954",
   "metadata": {},
   "outputs": [
    {
     "data": {
      "text/html": [
       "<div>\n",
       "<style scoped>\n",
       "    .dataframe tbody tr th:only-of-type {\n",
       "        vertical-align: middle;\n",
       "    }\n",
       "\n",
       "    .dataframe tbody tr th {\n",
       "        vertical-align: top;\n",
       "    }\n",
       "\n",
       "    .dataframe thead th {\n",
       "        text-align: right;\n",
       "    }\n",
       "</style>\n",
       "<table border=\"1\" class=\"dataframe\">\n",
       "  <thead>\n",
       "    <tr style=\"text-align: right;\">\n",
       "      <th></th>\n",
       "      <th>author</th>\n",
       "      <th>content</th>\n",
       "      <th>poem name</th>\n",
       "      <th>age</th>\n",
       "      <th>type</th>\n",
       "      <th>pred</th>\n",
       "    </tr>\n",
       "  </thead>\n",
       "  <tbody>\n",
       "    <tr>\n",
       "      <th>0</th>\n",
       "      <td>WILLIAM SHAKESPEARE</td>\n",
       "      <td>Let the bird of loudest lay\\r\\nOn the sole Ara...</td>\n",
       "      <td>The Phoenix and the Turtle</td>\n",
       "      <td>Renaissance</td>\n",
       "      <td>Mythology &amp; Folklore</td>\n",
       "      <td>0</td>\n",
       "    </tr>\n",
       "    <tr>\n",
       "      <th>1</th>\n",
       "      <td>DUCHESS OF NEWCASTLE MARGARET CAVENDISH</td>\n",
       "      <td>Sir Charles into my chamber coming in,\\r\\nWhen...</td>\n",
       "      <td>An Epilogue to the Above</td>\n",
       "      <td>Renaissance</td>\n",
       "      <td>Mythology &amp; Folklore</td>\n",
       "      <td>0</td>\n",
       "    </tr>\n",
       "    <tr>\n",
       "      <th>2</th>\n",
       "      <td>THOMAS BASTARD</td>\n",
       "      <td>Our vice runs beyond all that old men saw,\\r\\n...</td>\n",
       "      <td>Book 7, Epigram 42</td>\n",
       "      <td>Renaissance</td>\n",
       "      <td>Mythology &amp; Folklore</td>\n",
       "      <td>0</td>\n",
       "    </tr>\n",
       "    <tr>\n",
       "      <th>3</th>\n",
       "      <td>EDMUND SPENSER</td>\n",
       "      <td>Lo I the man, whose Muse whilome did maske,\\r\\...</td>\n",
       "      <td>from The Faerie Queene: Book I, Canto I</td>\n",
       "      <td>Renaissance</td>\n",
       "      <td>Mythology &amp; Folklore</td>\n",
       "      <td>0</td>\n",
       "    </tr>\n",
       "    <tr>\n",
       "      <th>4</th>\n",
       "      <td>RICHARD BARNFIELD</td>\n",
       "      <td>Long have I longd to see my love againe,\\r\\nSt...</td>\n",
       "      <td>Sonnet 16</td>\n",
       "      <td>Renaissance</td>\n",
       "      <td>Mythology &amp; Folklore</td>\n",
       "      <td>0</td>\n",
       "    </tr>\n",
       "  </tbody>\n",
       "</table>\n",
       "</div>"
      ],
      "text/plain": [
       "                                    author  \\\n",
       "0                      WILLIAM SHAKESPEARE   \n",
       "1  DUCHESS OF NEWCASTLE MARGARET CAVENDISH   \n",
       "2                           THOMAS BASTARD   \n",
       "3                           EDMUND SPENSER   \n",
       "4                        RICHARD BARNFIELD   \n",
       "\n",
       "                                             content  \\\n",
       "0  Let the bird of loudest lay\\r\\nOn the sole Ara...   \n",
       "1  Sir Charles into my chamber coming in,\\r\\nWhen...   \n",
       "2  Our vice runs beyond all that old men saw,\\r\\n...   \n",
       "3  Lo I the man, whose Muse whilome did maske,\\r\\...   \n",
       "4  Long have I longd to see my love againe,\\r\\nSt...   \n",
       "\n",
       "                                 poem name          age                  type  \\\n",
       "0               The Phoenix and the Turtle  Renaissance  Mythology & Folklore   \n",
       "1                 An Epilogue to the Above  Renaissance  Mythology & Folklore   \n",
       "2                       Book 7, Epigram 42  Renaissance  Mythology & Folklore   \n",
       "3  from The Faerie Queene: Book I, Canto I  Renaissance  Mythology & Folklore   \n",
       "4                                Sonnet 16  Renaissance  Mythology & Folklore   \n",
       "\n",
       "   pred  \n",
       "0     0  \n",
       "1     0  \n",
       "2     0  \n",
       "3     0  \n",
       "4     0  "
      ]
     },
     "execution_count": 196,
     "metadata": {},
     "output_type": "execute_result"
    }
   ],
   "source": [
    "df.head()"
   ]
  },
  {
   "cell_type": "code",
   "execution_count": 197,
   "id": "916ec418",
   "metadata": {},
   "outputs": [
    {
     "data": {
      "text/html": [
       "<div>\n",
       "<style scoped>\n",
       "    .dataframe tbody tr th:only-of-type {\n",
       "        vertical-align: middle;\n",
       "    }\n",
       "\n",
       "    .dataframe tbody tr th {\n",
       "        vertical-align: top;\n",
       "    }\n",
       "\n",
       "    .dataframe thead th {\n",
       "        text-align: right;\n",
       "    }\n",
       "</style>\n",
       "<table border=\"1\" class=\"dataframe\">\n",
       "  <thead>\n",
       "    <tr style=\"text-align: right;\">\n",
       "      <th></th>\n",
       "      <th>author</th>\n",
       "      <th>ModernPrediction</th>\n",
       "      <th>NoPoems</th>\n",
       "    </tr>\n",
       "  </thead>\n",
       "  <tbody>\n",
       "    <tr>\n",
       "      <th>0</th>\n",
       "      <td>A. E. HOUSMAN</td>\n",
       "      <td>0.974359</td>\n",
       "      <td>39</td>\n",
       "    </tr>\n",
       "    <tr>\n",
       "      <th>1</th>\n",
       "      <td>ALFRED, LORD TENNYSON</td>\n",
       "      <td>0.816092</td>\n",
       "      <td>87</td>\n",
       "    </tr>\n",
       "    <tr>\n",
       "      <th>2</th>\n",
       "      <td>ALGERNON CHARLES SWINBURNE</td>\n",
       "      <td>0.189189</td>\n",
       "      <td>37</td>\n",
       "    </tr>\n",
       "    <tr>\n",
       "      <th>3</th>\n",
       "      <td>ALICE NOTLEY</td>\n",
       "      <td>1.000000</td>\n",
       "      <td>38</td>\n",
       "    </tr>\n",
       "    <tr>\n",
       "      <th>4</th>\n",
       "      <td>AMEEN RIHANI</td>\n",
       "      <td>0.812500</td>\n",
       "      <td>80</td>\n",
       "    </tr>\n",
       "    <tr>\n",
       "      <th>...</th>\n",
       "      <td>...</td>\n",
       "      <td>...</td>\n",
       "      <td>...</td>\n",
       "    </tr>\n",
       "    <tr>\n",
       "      <th>114</th>\n",
       "      <td>WILLIAM CARLOS WILLIAMS</td>\n",
       "      <td>1.000000</td>\n",
       "      <td>45</td>\n",
       "    </tr>\n",
       "    <tr>\n",
       "      <th>115</th>\n",
       "      <td>WILLIAM SHAKESPEARE</td>\n",
       "      <td>0.046647</td>\n",
       "      <td>343</td>\n",
       "    </tr>\n",
       "    <tr>\n",
       "      <th>116</th>\n",
       "      <td>WILLIAM TOPAZ MCGONAGALL</td>\n",
       "      <td>0.887324</td>\n",
       "      <td>71</td>\n",
       "    </tr>\n",
       "    <tr>\n",
       "      <th>117</th>\n",
       "      <td>WILLIAM WORDSWORTH</td>\n",
       "      <td>0.150685</td>\n",
       "      <td>73</td>\n",
       "    </tr>\n",
       "    <tr>\n",
       "      <th>118</th>\n",
       "      <td>YUSEF KOMUNYAKAA</td>\n",
       "      <td>1.000000</td>\n",
       "      <td>52</td>\n",
       "    </tr>\n",
       "  </tbody>\n",
       "</table>\n",
       "<p>119 rows × 3 columns</p>\n",
       "</div>"
      ],
      "text/plain": [
       "                         author  ModernPrediction  NoPoems\n",
       "0                 A. E. HOUSMAN          0.974359       39\n",
       "1         ALFRED, LORD TENNYSON          0.816092       87\n",
       "2    ALGERNON CHARLES SWINBURNE          0.189189       37\n",
       "3                  ALICE NOTLEY          1.000000       38\n",
       "4                  AMEEN RIHANI          0.812500       80\n",
       "..                          ...               ...      ...\n",
       "114     WILLIAM CARLOS WILLIAMS          1.000000       45\n",
       "115         WILLIAM SHAKESPEARE          0.046647      343\n",
       "116    WILLIAM TOPAZ MCGONAGALL          0.887324       71\n",
       "117          WILLIAM WORDSWORTH          0.150685       73\n",
       "118            YUSEF KOMUNYAKAA          1.000000       52\n",
       "\n",
       "[119 rows x 3 columns]"
      ]
     },
     "execution_count": 197,
     "metadata": {},
     "output_type": "execute_result"
    }
   ],
   "source": [
    "author_score = df.groupby('author').agg({'pred':['mean','count']}).reset_index()\n",
    "author_score.columns = ['author','ModernPrediction','NoPoems']\n",
    "author_score"
   ]
  },
  {
   "cell_type": "code",
   "execution_count": 198,
   "id": "1396cc66",
   "metadata": {},
   "outputs": [
    {
     "data": {
      "text/html": [
       "<div>\n",
       "<style scoped>\n",
       "    .dataframe tbody tr th:only-of-type {\n",
       "        vertical-align: middle;\n",
       "    }\n",
       "\n",
       "    .dataframe tbody tr th {\n",
       "        vertical-align: top;\n",
       "    }\n",
       "\n",
       "    .dataframe thead th {\n",
       "        text-align: right;\n",
       "    }\n",
       "</style>\n",
       "<table border=\"1\" class=\"dataframe\">\n",
       "  <thead>\n",
       "    <tr style=\"text-align: right;\">\n",
       "      <th></th>\n",
       "      <th>author</th>\n",
       "      <th>ModernPrediction</th>\n",
       "      <th>NoPoems</th>\n",
       "      <th>RenaissancePrediction</th>\n",
       "    </tr>\n",
       "  </thead>\n",
       "  <tbody>\n",
       "    <tr>\n",
       "      <th>0</th>\n",
       "      <td>A. E. HOUSMAN</td>\n",
       "      <td>0.974359</td>\n",
       "      <td>39</td>\n",
       "      <td>0.025641</td>\n",
       "    </tr>\n",
       "    <tr>\n",
       "      <th>1</th>\n",
       "      <td>ALFRED, LORD TENNYSON</td>\n",
       "      <td>0.816092</td>\n",
       "      <td>87</td>\n",
       "      <td>0.183908</td>\n",
       "    </tr>\n",
       "    <tr>\n",
       "      <th>2</th>\n",
       "      <td>ALGERNON CHARLES SWINBURNE</td>\n",
       "      <td>0.189189</td>\n",
       "      <td>37</td>\n",
       "      <td>0.810811</td>\n",
       "    </tr>\n",
       "    <tr>\n",
       "      <th>3</th>\n",
       "      <td>ALICE NOTLEY</td>\n",
       "      <td>1.000000</td>\n",
       "      <td>38</td>\n",
       "      <td>0.000000</td>\n",
       "    </tr>\n",
       "    <tr>\n",
       "      <th>4</th>\n",
       "      <td>AMEEN RIHANI</td>\n",
       "      <td>0.812500</td>\n",
       "      <td>80</td>\n",
       "      <td>0.187500</td>\n",
       "    </tr>\n",
       "    <tr>\n",
       "      <th>...</th>\n",
       "      <td>...</td>\n",
       "      <td>...</td>\n",
       "      <td>...</td>\n",
       "      <td>...</td>\n",
       "    </tr>\n",
       "    <tr>\n",
       "      <th>114</th>\n",
       "      <td>WILLIAM CARLOS WILLIAMS</td>\n",
       "      <td>1.000000</td>\n",
       "      <td>45</td>\n",
       "      <td>0.000000</td>\n",
       "    </tr>\n",
       "    <tr>\n",
       "      <th>115</th>\n",
       "      <td>WILLIAM SHAKESPEARE</td>\n",
       "      <td>0.046647</td>\n",
       "      <td>343</td>\n",
       "      <td>0.953353</td>\n",
       "    </tr>\n",
       "    <tr>\n",
       "      <th>116</th>\n",
       "      <td>WILLIAM TOPAZ MCGONAGALL</td>\n",
       "      <td>0.887324</td>\n",
       "      <td>71</td>\n",
       "      <td>0.112676</td>\n",
       "    </tr>\n",
       "    <tr>\n",
       "      <th>117</th>\n",
       "      <td>WILLIAM WORDSWORTH</td>\n",
       "      <td>0.150685</td>\n",
       "      <td>73</td>\n",
       "      <td>0.849315</td>\n",
       "    </tr>\n",
       "    <tr>\n",
       "      <th>118</th>\n",
       "      <td>YUSEF KOMUNYAKAA</td>\n",
       "      <td>1.000000</td>\n",
       "      <td>52</td>\n",
       "      <td>0.000000</td>\n",
       "    </tr>\n",
       "  </tbody>\n",
       "</table>\n",
       "<p>119 rows × 4 columns</p>\n",
       "</div>"
      ],
      "text/plain": [
       "                         author  ModernPrediction  NoPoems  \\\n",
       "0                 A. E. HOUSMAN          0.974359       39   \n",
       "1         ALFRED, LORD TENNYSON          0.816092       87   \n",
       "2    ALGERNON CHARLES SWINBURNE          0.189189       37   \n",
       "3                  ALICE NOTLEY          1.000000       38   \n",
       "4                  AMEEN RIHANI          0.812500       80   \n",
       "..                          ...               ...      ...   \n",
       "114     WILLIAM CARLOS WILLIAMS          1.000000       45   \n",
       "115         WILLIAM SHAKESPEARE          0.046647      343   \n",
       "116    WILLIAM TOPAZ MCGONAGALL          0.887324       71   \n",
       "117          WILLIAM WORDSWORTH          0.150685       73   \n",
       "118            YUSEF KOMUNYAKAA          1.000000       52   \n",
       "\n",
       "     RenaissancePrediction  \n",
       "0                 0.025641  \n",
       "1                 0.183908  \n",
       "2                 0.810811  \n",
       "3                 0.000000  \n",
       "4                 0.187500  \n",
       "..                     ...  \n",
       "114               0.000000  \n",
       "115               0.953353  \n",
       "116               0.112676  \n",
       "117               0.849315  \n",
       "118               0.000000  \n",
       "\n",
       "[119 rows x 4 columns]"
      ]
     },
     "execution_count": 198,
     "metadata": {},
     "output_type": "execute_result"
    }
   ],
   "source": [
    "author_score['RenaissancePrediction'] = author_score['ModernPrediction'].apply(lambda x: 1-x)\n",
    "author_score"
   ]
  },
  {
   "cell_type": "code",
   "execution_count": 199,
   "id": "2b6d878e",
   "metadata": {},
   "outputs": [
    {
     "data": {
      "text/plain": [
       "(119, 2)"
      ]
     },
     "execution_count": 199,
     "metadata": {},
     "output_type": "execute_result"
    }
   ],
   "source": [
    "actual_age = df[['author','age']].drop_duplicates()\n",
    "actual_age.shape"
   ]
  },
  {
   "cell_type": "code",
   "execution_count": 200,
   "id": "62a42d92",
   "metadata": {},
   "outputs": [
    {
     "data": {
      "text/html": [
       "<div>\n",
       "<style scoped>\n",
       "    .dataframe tbody tr th:only-of-type {\n",
       "        vertical-align: middle;\n",
       "    }\n",
       "\n",
       "    .dataframe tbody tr th {\n",
       "        vertical-align: top;\n",
       "    }\n",
       "\n",
       "    .dataframe thead th {\n",
       "        text-align: right;\n",
       "    }\n",
       "</style>\n",
       "<table border=\"1\" class=\"dataframe\">\n",
       "  <thead>\n",
       "    <tr style=\"text-align: right;\">\n",
       "      <th></th>\n",
       "      <th>author</th>\n",
       "      <th>ModernPrediction</th>\n",
       "      <th>NoPoems</th>\n",
       "      <th>RenaissancePrediction</th>\n",
       "      <th>age</th>\n",
       "    </tr>\n",
       "  </thead>\n",
       "  <tbody>\n",
       "    <tr>\n",
       "      <th>0</th>\n",
       "      <td>A. E. HOUSMAN</td>\n",
       "      <td>0.974359</td>\n",
       "      <td>39</td>\n",
       "      <td>0.025641</td>\n",
       "      <td>Modern</td>\n",
       "    </tr>\n",
       "    <tr>\n",
       "      <th>1</th>\n",
       "      <td>ALFRED, LORD TENNYSON</td>\n",
       "      <td>0.816092</td>\n",
       "      <td>87</td>\n",
       "      <td>0.183908</td>\n",
       "      <td>Modern</td>\n",
       "    </tr>\n",
       "    <tr>\n",
       "      <th>2</th>\n",
       "      <td>ALGERNON CHARLES SWINBURNE</td>\n",
       "      <td>0.189189</td>\n",
       "      <td>37</td>\n",
       "      <td>0.810811</td>\n",
       "      <td>Renaissance</td>\n",
       "    </tr>\n",
       "    <tr>\n",
       "      <th>3</th>\n",
       "      <td>ALICE NOTLEY</td>\n",
       "      <td>1.000000</td>\n",
       "      <td>38</td>\n",
       "      <td>0.000000</td>\n",
       "      <td>Modern</td>\n",
       "    </tr>\n",
       "    <tr>\n",
       "      <th>4</th>\n",
       "      <td>AMEEN RIHANI</td>\n",
       "      <td>0.812500</td>\n",
       "      <td>80</td>\n",
       "      <td>0.187500</td>\n",
       "      <td>Modern</td>\n",
       "    </tr>\n",
       "    <tr>\n",
       "      <th>...</th>\n",
       "      <td>...</td>\n",
       "      <td>...</td>\n",
       "      <td>...</td>\n",
       "      <td>...</td>\n",
       "      <td>...</td>\n",
       "    </tr>\n",
       "    <tr>\n",
       "      <th>114</th>\n",
       "      <td>WILLIAM CARLOS WILLIAMS</td>\n",
       "      <td>1.000000</td>\n",
       "      <td>45</td>\n",
       "      <td>0.000000</td>\n",
       "      <td>Modern</td>\n",
       "    </tr>\n",
       "    <tr>\n",
       "      <th>115</th>\n",
       "      <td>WILLIAM SHAKESPEARE</td>\n",
       "      <td>0.046647</td>\n",
       "      <td>343</td>\n",
       "      <td>0.953353</td>\n",
       "      <td>Renaissance</td>\n",
       "    </tr>\n",
       "    <tr>\n",
       "      <th>116</th>\n",
       "      <td>WILLIAM TOPAZ MCGONAGALL</td>\n",
       "      <td>0.887324</td>\n",
       "      <td>71</td>\n",
       "      <td>0.112676</td>\n",
       "      <td>Modern</td>\n",
       "    </tr>\n",
       "    <tr>\n",
       "      <th>117</th>\n",
       "      <td>WILLIAM WORDSWORTH</td>\n",
       "      <td>0.150685</td>\n",
       "      <td>73</td>\n",
       "      <td>0.849315</td>\n",
       "      <td>Renaissance</td>\n",
       "    </tr>\n",
       "    <tr>\n",
       "      <th>118</th>\n",
       "      <td>YUSEF KOMUNYAKAA</td>\n",
       "      <td>1.000000</td>\n",
       "      <td>52</td>\n",
       "      <td>0.000000</td>\n",
       "      <td>Modern</td>\n",
       "    </tr>\n",
       "  </tbody>\n",
       "</table>\n",
       "<p>119 rows × 5 columns</p>\n",
       "</div>"
      ],
      "text/plain": [
       "                         author  ModernPrediction  NoPoems  \\\n",
       "0                 A. E. HOUSMAN          0.974359       39   \n",
       "1         ALFRED, LORD TENNYSON          0.816092       87   \n",
       "2    ALGERNON CHARLES SWINBURNE          0.189189       37   \n",
       "3                  ALICE NOTLEY          1.000000       38   \n",
       "4                  AMEEN RIHANI          0.812500       80   \n",
       "..                          ...               ...      ...   \n",
       "114     WILLIAM CARLOS WILLIAMS          1.000000       45   \n",
       "115         WILLIAM SHAKESPEARE          0.046647      343   \n",
       "116    WILLIAM TOPAZ MCGONAGALL          0.887324       71   \n",
       "117          WILLIAM WORDSWORTH          0.150685       73   \n",
       "118            YUSEF KOMUNYAKAA          1.000000       52   \n",
       "\n",
       "     RenaissancePrediction          age  \n",
       "0                 0.025641       Modern  \n",
       "1                 0.183908       Modern  \n",
       "2                 0.810811  Renaissance  \n",
       "3                 0.000000       Modern  \n",
       "4                 0.187500       Modern  \n",
       "..                     ...          ...  \n",
       "114               0.000000       Modern  \n",
       "115               0.953353  Renaissance  \n",
       "116               0.112676       Modern  \n",
       "117               0.849315  Renaissance  \n",
       "118               0.000000       Modern  \n",
       "\n",
       "[119 rows x 5 columns]"
      ]
     },
     "execution_count": 200,
     "metadata": {},
     "output_type": "execute_result"
    }
   ],
   "source": [
    "author_score = pd.merge(author_score,actual_age,how = 'left', on = 'author')\n",
    "author_score"
   ]
  },
  {
   "cell_type": "code",
   "execution_count": 201,
   "id": "f620855c",
   "metadata": {},
   "outputs": [],
   "source": [
    "author_score['Renaissance'] = author_score['age'] == 'Renaissance'\n",
    "author_score['error'] = (author_score['Renaissance'] - author_score['RenaissancePrediction']).abs()"
   ]
  },
  {
   "cell_type": "code",
   "execution_count": 202,
   "id": "07656259",
   "metadata": {},
   "outputs": [
    {
     "data": {
      "text/html": [
       "<div>\n",
       "<style scoped>\n",
       "    .dataframe tbody tr th:only-of-type {\n",
       "        vertical-align: middle;\n",
       "    }\n",
       "\n",
       "    .dataframe tbody tr th {\n",
       "        vertical-align: top;\n",
       "    }\n",
       "\n",
       "    .dataframe thead th {\n",
       "        text-align: right;\n",
       "    }\n",
       "</style>\n",
       "<table border=\"1\" class=\"dataframe\">\n",
       "  <thead>\n",
       "    <tr style=\"text-align: right;\">\n",
       "      <th></th>\n",
       "      <th>author</th>\n",
       "      <th>ModernPrediction</th>\n",
       "      <th>NoPoems</th>\n",
       "      <th>RenaissancePrediction</th>\n",
       "      <th>age</th>\n",
       "      <th>Renaissance</th>\n",
       "      <th>error</th>\n",
       "    </tr>\n",
       "  </thead>\n",
       "  <tbody>\n",
       "    <tr>\n",
       "      <th>0</th>\n",
       "      <td>A. E. HOUSMAN</td>\n",
       "      <td>0.974359</td>\n",
       "      <td>39</td>\n",
       "      <td>0.025641</td>\n",
       "      <td>Modern</td>\n",
       "      <td>False</td>\n",
       "      <td>0.025641</td>\n",
       "    </tr>\n",
       "    <tr>\n",
       "      <th>1</th>\n",
       "      <td>ALFRED, LORD TENNYSON</td>\n",
       "      <td>0.816092</td>\n",
       "      <td>87</td>\n",
       "      <td>0.183908</td>\n",
       "      <td>Modern</td>\n",
       "      <td>False</td>\n",
       "      <td>0.183908</td>\n",
       "    </tr>\n",
       "    <tr>\n",
       "      <th>2</th>\n",
       "      <td>ALGERNON CHARLES SWINBURNE</td>\n",
       "      <td>0.189189</td>\n",
       "      <td>37</td>\n",
       "      <td>0.810811</td>\n",
       "      <td>Renaissance</td>\n",
       "      <td>True</td>\n",
       "      <td>0.189189</td>\n",
       "    </tr>\n",
       "    <tr>\n",
       "      <th>3</th>\n",
       "      <td>ALICE NOTLEY</td>\n",
       "      <td>1.000000</td>\n",
       "      <td>38</td>\n",
       "      <td>0.000000</td>\n",
       "      <td>Modern</td>\n",
       "      <td>False</td>\n",
       "      <td>0.000000</td>\n",
       "    </tr>\n",
       "    <tr>\n",
       "      <th>4</th>\n",
       "      <td>AMEEN RIHANI</td>\n",
       "      <td>0.812500</td>\n",
       "      <td>80</td>\n",
       "      <td>0.187500</td>\n",
       "      <td>Modern</td>\n",
       "      <td>False</td>\n",
       "      <td>0.187500</td>\n",
       "    </tr>\n",
       "    <tr>\n",
       "      <th>...</th>\n",
       "      <td>...</td>\n",
       "      <td>...</td>\n",
       "      <td>...</td>\n",
       "      <td>...</td>\n",
       "      <td>...</td>\n",
       "      <td>...</td>\n",
       "      <td>...</td>\n",
       "    </tr>\n",
       "    <tr>\n",
       "      <th>114</th>\n",
       "      <td>WILLIAM CARLOS WILLIAMS</td>\n",
       "      <td>1.000000</td>\n",
       "      <td>45</td>\n",
       "      <td>0.000000</td>\n",
       "      <td>Modern</td>\n",
       "      <td>False</td>\n",
       "      <td>0.000000</td>\n",
       "    </tr>\n",
       "    <tr>\n",
       "      <th>115</th>\n",
       "      <td>WILLIAM SHAKESPEARE</td>\n",
       "      <td>0.046647</td>\n",
       "      <td>343</td>\n",
       "      <td>0.953353</td>\n",
       "      <td>Renaissance</td>\n",
       "      <td>True</td>\n",
       "      <td>0.046647</td>\n",
       "    </tr>\n",
       "    <tr>\n",
       "      <th>116</th>\n",
       "      <td>WILLIAM TOPAZ MCGONAGALL</td>\n",
       "      <td>0.887324</td>\n",
       "      <td>71</td>\n",
       "      <td>0.112676</td>\n",
       "      <td>Modern</td>\n",
       "      <td>False</td>\n",
       "      <td>0.112676</td>\n",
       "    </tr>\n",
       "    <tr>\n",
       "      <th>117</th>\n",
       "      <td>WILLIAM WORDSWORTH</td>\n",
       "      <td>0.150685</td>\n",
       "      <td>73</td>\n",
       "      <td>0.849315</td>\n",
       "      <td>Renaissance</td>\n",
       "      <td>True</td>\n",
       "      <td>0.150685</td>\n",
       "    </tr>\n",
       "    <tr>\n",
       "      <th>118</th>\n",
       "      <td>YUSEF KOMUNYAKAA</td>\n",
       "      <td>1.000000</td>\n",
       "      <td>52</td>\n",
       "      <td>0.000000</td>\n",
       "      <td>Modern</td>\n",
       "      <td>False</td>\n",
       "      <td>0.000000</td>\n",
       "    </tr>\n",
       "  </tbody>\n",
       "</table>\n",
       "<p>119 rows × 7 columns</p>\n",
       "</div>"
      ],
      "text/plain": [
       "                         author  ModernPrediction  NoPoems  \\\n",
       "0                 A. E. HOUSMAN          0.974359       39   \n",
       "1         ALFRED, LORD TENNYSON          0.816092       87   \n",
       "2    ALGERNON CHARLES SWINBURNE          0.189189       37   \n",
       "3                  ALICE NOTLEY          1.000000       38   \n",
       "4                  AMEEN RIHANI          0.812500       80   \n",
       "..                          ...               ...      ...   \n",
       "114     WILLIAM CARLOS WILLIAMS          1.000000       45   \n",
       "115         WILLIAM SHAKESPEARE          0.046647      343   \n",
       "116    WILLIAM TOPAZ MCGONAGALL          0.887324       71   \n",
       "117          WILLIAM WORDSWORTH          0.150685       73   \n",
       "118            YUSEF KOMUNYAKAA          1.000000       52   \n",
       "\n",
       "     RenaissancePrediction          age  Renaissance     error  \n",
       "0                 0.025641       Modern        False  0.025641  \n",
       "1                 0.183908       Modern        False  0.183908  \n",
       "2                 0.810811  Renaissance         True  0.189189  \n",
       "3                 0.000000       Modern        False  0.000000  \n",
       "4                 0.187500       Modern        False  0.187500  \n",
       "..                     ...          ...          ...       ...  \n",
       "114               0.000000       Modern        False  0.000000  \n",
       "115               0.953353  Renaissance         True  0.046647  \n",
       "116               0.112676       Modern        False  0.112676  \n",
       "117               0.849315  Renaissance         True  0.150685  \n",
       "118               0.000000       Modern        False  0.000000  \n",
       "\n",
       "[119 rows x 7 columns]"
      ]
     },
     "execution_count": 202,
     "metadata": {},
     "output_type": "execute_result"
    }
   ],
   "source": [
    "author_score"
   ]
  },
  {
   "cell_type": "code",
   "execution_count": 203,
   "id": "d65a912c",
   "metadata": {},
   "outputs": [],
   "source": [
    "author_score = author_score.sort_values(by = 'NoPoems',ascending = False)"
   ]
  },
  {
   "cell_type": "code",
   "execution_count": 204,
   "id": "f66a79ba",
   "metadata": {},
   "outputs": [
    {
     "data": {
      "text/html": [
       "<div>\n",
       "<style scoped>\n",
       "    .dataframe tbody tr th:only-of-type {\n",
       "        vertical-align: middle;\n",
       "    }\n",
       "\n",
       "    .dataframe tbody tr th {\n",
       "        vertical-align: top;\n",
       "    }\n",
       "\n",
       "    .dataframe thead th {\n",
       "        text-align: right;\n",
       "    }\n",
       "</style>\n",
       "<table border=\"1\" class=\"dataframe\">\n",
       "  <thead>\n",
       "    <tr style=\"text-align: right;\">\n",
       "      <th></th>\n",
       "      <th>author</th>\n",
       "      <th>ModernPrediction</th>\n",
       "      <th>NoPoems</th>\n",
       "      <th>RenaissancePrediction</th>\n",
       "      <th>age</th>\n",
       "      <th>Renaissance</th>\n",
       "      <th>error</th>\n",
       "    </tr>\n",
       "  </thead>\n",
       "  <tbody>\n",
       "    <tr>\n",
       "      <th>115</th>\n",
       "      <td>WILLIAM SHAKESPEARE</td>\n",
       "      <td>0.046647</td>\n",
       "      <td>343</td>\n",
       "      <td>0.953353</td>\n",
       "      <td>Renaissance</td>\n",
       "      <td>True</td>\n",
       "      <td>0.046647</td>\n",
       "    </tr>\n",
       "    <tr>\n",
       "      <th>110</th>\n",
       "      <td>WALT WHITMAN</td>\n",
       "      <td>0.975000</td>\n",
       "      <td>160</td>\n",
       "      <td>0.025000</td>\n",
       "      <td>Modern</td>\n",
       "      <td>False</td>\n",
       "      <td>0.025000</td>\n",
       "    </tr>\n",
       "    <tr>\n",
       "      <th>77</th>\n",
       "      <td>PAUL LAURENCE DUNBAR</td>\n",
       "      <td>0.912281</td>\n",
       "      <td>114</td>\n",
       "      <td>0.087719</td>\n",
       "      <td>Modern</td>\n",
       "      <td>False</td>\n",
       "      <td>0.087719</td>\n",
       "    </tr>\n",
       "    <tr>\n",
       "      <th>66</th>\n",
       "      <td>LANGSTON HUGHES</td>\n",
       "      <td>1.000000</td>\n",
       "      <td>111</td>\n",
       "      <td>0.000000</td>\n",
       "      <td>Modern</td>\n",
       "      <td>False</td>\n",
       "      <td>0.000000</td>\n",
       "    </tr>\n",
       "    <tr>\n",
       "      <th>86</th>\n",
       "      <td>ROBERT FROST</td>\n",
       "      <td>0.980769</td>\n",
       "      <td>104</td>\n",
       "      <td>0.019231</td>\n",
       "      <td>Modern</td>\n",
       "      <td>False</td>\n",
       "      <td>0.019231</td>\n",
       "    </tr>\n",
       "    <tr>\n",
       "      <th>...</th>\n",
       "      <td>...</td>\n",
       "      <td>...</td>\n",
       "      <td>...</td>\n",
       "      <td>...</td>\n",
       "      <td>...</td>\n",
       "      <td>...</td>\n",
       "      <td>...</td>\n",
       "    </tr>\n",
       "    <tr>\n",
       "      <th>76</th>\n",
       "      <td>ORLANDO GIBBONS</td>\n",
       "      <td>0.000000</td>\n",
       "      <td>2</td>\n",
       "      <td>1.000000</td>\n",
       "      <td>Renaissance</td>\n",
       "      <td>True</td>\n",
       "      <td>0.000000</td>\n",
       "    </tr>\n",
       "    <tr>\n",
       "      <th>95</th>\n",
       "      <td>SIR EDWARD DYER</td>\n",
       "      <td>0.000000</td>\n",
       "      <td>2</td>\n",
       "      <td>1.000000</td>\n",
       "      <td>Renaissance</td>\n",
       "      <td>True</td>\n",
       "      <td>0.000000</td>\n",
       "    </tr>\n",
       "    <tr>\n",
       "      <th>94</th>\n",
       "      <td>SECOND BARON VAUX OF HARROWDEN THOMAS, LORD VAUX</td>\n",
       "      <td>0.000000</td>\n",
       "      <td>2</td>\n",
       "      <td>1.000000</td>\n",
       "      <td>Renaissance</td>\n",
       "      <td>True</td>\n",
       "      <td>0.000000</td>\n",
       "    </tr>\n",
       "    <tr>\n",
       "      <th>88</th>\n",
       "      <td>ROBERT SOUTHWELL SJ</td>\n",
       "      <td>0.000000</td>\n",
       "      <td>2</td>\n",
       "      <td>1.000000</td>\n",
       "      <td>Renaissance</td>\n",
       "      <td>True</td>\n",
       "      <td>0.000000</td>\n",
       "    </tr>\n",
       "    <tr>\n",
       "      <th>89</th>\n",
       "      <td>ROBERT SOUTHWELL, SJ</td>\n",
       "      <td>0.000000</td>\n",
       "      <td>1</td>\n",
       "      <td>1.000000</td>\n",
       "      <td>Renaissance</td>\n",
       "      <td>True</td>\n",
       "      <td>0.000000</td>\n",
       "    </tr>\n",
       "  </tbody>\n",
       "</table>\n",
       "<p>119 rows × 7 columns</p>\n",
       "</div>"
      ],
      "text/plain": [
       "                                               author  ModernPrediction  \\\n",
       "115                               WILLIAM SHAKESPEARE          0.046647   \n",
       "110                                      WALT WHITMAN          0.975000   \n",
       "77                               PAUL LAURENCE DUNBAR          0.912281   \n",
       "66                                    LANGSTON HUGHES          1.000000   \n",
       "86                                       ROBERT FROST          0.980769   \n",
       "..                                                ...               ...   \n",
       "76                                    ORLANDO GIBBONS          0.000000   \n",
       "95                                    SIR EDWARD DYER          0.000000   \n",
       "94   SECOND BARON VAUX OF HARROWDEN THOMAS, LORD VAUX          0.000000   \n",
       "88                                ROBERT SOUTHWELL SJ          0.000000   \n",
       "89                               ROBERT SOUTHWELL, SJ          0.000000   \n",
       "\n",
       "     NoPoems  RenaissancePrediction          age  Renaissance     error  \n",
       "115      343               0.953353  Renaissance         True  0.046647  \n",
       "110      160               0.025000       Modern        False  0.025000  \n",
       "77       114               0.087719       Modern        False  0.087719  \n",
       "66       111               0.000000       Modern        False  0.000000  \n",
       "86       104               0.019231       Modern        False  0.019231  \n",
       "..       ...                    ...          ...          ...       ...  \n",
       "76         2               1.000000  Renaissance         True  0.000000  \n",
       "95         2               1.000000  Renaissance         True  0.000000  \n",
       "94         2               1.000000  Renaissance         True  0.000000  \n",
       "88         2               1.000000  Renaissance         True  0.000000  \n",
       "89         1               1.000000  Renaissance         True  0.000000  \n",
       "\n",
       "[119 rows x 7 columns]"
      ]
     },
     "execution_count": 204,
     "metadata": {},
     "output_type": "execute_result"
    }
   ],
   "source": [
    "author_score"
   ]
  },
  {
   "cell_type": "code",
   "execution_count": 205,
   "id": "4063b528",
   "metadata": {},
   "outputs": [
    {
     "data": {
      "text/html": [
       "<div>\n",
       "<style scoped>\n",
       "    .dataframe tbody tr th:only-of-type {\n",
       "        vertical-align: middle;\n",
       "    }\n",
       "\n",
       "    .dataframe tbody tr th {\n",
       "        vertical-align: top;\n",
       "    }\n",
       "\n",
       "    .dataframe thead th {\n",
       "        text-align: right;\n",
       "    }\n",
       "</style>\n",
       "<table border=\"1\" class=\"dataframe\">\n",
       "  <thead>\n",
       "    <tr style=\"text-align: right;\">\n",
       "      <th></th>\n",
       "      <th>author</th>\n",
       "      <th>ModernPrediction</th>\n",
       "      <th>RenaissancePrediction</th>\n",
       "    </tr>\n",
       "  </thead>\n",
       "  <tbody>\n",
       "    <tr>\n",
       "      <th>115</th>\n",
       "      <td>WILLIAM SHAKESPEARE</td>\n",
       "      <td>0.046647</td>\n",
       "      <td>0.953353</td>\n",
       "    </tr>\n",
       "    <tr>\n",
       "      <th>56</th>\n",
       "      <td>JOHN DONNE</td>\n",
       "      <td>0.032258</td>\n",
       "      <td>0.967742</td>\n",
       "    </tr>\n",
       "    <tr>\n",
       "      <th>96</th>\n",
       "      <td>SIR PHILIP SIDNEY</td>\n",
       "      <td>0.012195</td>\n",
       "      <td>0.987805</td>\n",
       "    </tr>\n",
       "    <tr>\n",
       "      <th>117</th>\n",
       "      <td>WILLIAM WORDSWORTH</td>\n",
       "      <td>0.150685</td>\n",
       "      <td>0.849315</td>\n",
       "    </tr>\n",
       "    <tr>\n",
       "      <th>28</th>\n",
       "      <td>EDMUND SPENSER</td>\n",
       "      <td>0.000000</td>\n",
       "      <td>1.000000</td>\n",
       "    </tr>\n",
       "  </tbody>\n",
       "</table>\n",
       "</div>"
      ],
      "text/plain": [
       "                  author  ModernPrediction  RenaissancePrediction\n",
       "115  WILLIAM SHAKESPEARE          0.046647               0.953353\n",
       "56            JOHN DONNE          0.032258               0.967742\n",
       "96     SIR PHILIP SIDNEY          0.012195               0.987805\n",
       "117   WILLIAM WORDSWORTH          0.150685               0.849315\n",
       "28        EDMUND SPENSER          0.000000               1.000000"
      ]
     },
     "execution_count": 205,
     "metadata": {},
     "output_type": "execute_result"
    }
   ],
   "source": [
    "ren_authors = author_score[author_score['Renaissance']][['author','ModernPrediction','RenaissancePrediction']].head()\n",
    "ren_authors"
   ]
  },
  {
   "cell_type": "code",
   "execution_count": 206,
   "id": "2d0f7b30",
   "metadata": {},
   "outputs": [
    {
     "data": {
      "text/html": [
       "<div>\n",
       "<style scoped>\n",
       "    .dataframe tbody tr th:only-of-type {\n",
       "        vertical-align: middle;\n",
       "    }\n",
       "\n",
       "    .dataframe tbody tr th {\n",
       "        vertical-align: top;\n",
       "    }\n",
       "\n",
       "    .dataframe thead th {\n",
       "        text-align: right;\n",
       "    }\n",
       "</style>\n",
       "<table border=\"1\" class=\"dataframe\">\n",
       "  <thead>\n",
       "    <tr style=\"text-align: right;\">\n",
       "      <th></th>\n",
       "      <th>author</th>\n",
       "      <th>ModernPrediction</th>\n",
       "      <th>RenaissancePrediction</th>\n",
       "    </tr>\n",
       "  </thead>\n",
       "  <tbody>\n",
       "    <tr>\n",
       "      <th>110</th>\n",
       "      <td>WALT WHITMAN</td>\n",
       "      <td>0.975000</td>\n",
       "      <td>0.025000</td>\n",
       "    </tr>\n",
       "    <tr>\n",
       "      <th>77</th>\n",
       "      <td>PAUL LAURENCE DUNBAR</td>\n",
       "      <td>0.912281</td>\n",
       "      <td>0.087719</td>\n",
       "    </tr>\n",
       "    <tr>\n",
       "      <th>66</th>\n",
       "      <td>LANGSTON HUGHES</td>\n",
       "      <td>1.000000</td>\n",
       "      <td>0.000000</td>\n",
       "    </tr>\n",
       "    <tr>\n",
       "      <th>86</th>\n",
       "      <td>ROBERT FROST</td>\n",
       "      <td>0.980769</td>\n",
       "      <td>0.019231</td>\n",
       "    </tr>\n",
       "    <tr>\n",
       "      <th>32</th>\n",
       "      <td>EMILY DICKINSON</td>\n",
       "      <td>0.970874</td>\n",
       "      <td>0.029126</td>\n",
       "    </tr>\n",
       "  </tbody>\n",
       "</table>\n",
       "</div>"
      ],
      "text/plain": [
       "                   author  ModernPrediction  RenaissancePrediction\n",
       "110          WALT WHITMAN          0.975000               0.025000\n",
       "77   PAUL LAURENCE DUNBAR          0.912281               0.087719\n",
       "66        LANGSTON HUGHES          1.000000               0.000000\n",
       "86           ROBERT FROST          0.980769               0.019231\n",
       "32        EMILY DICKINSON          0.970874               0.029126"
      ]
     },
     "execution_count": 206,
     "metadata": {},
     "output_type": "execute_result"
    }
   ],
   "source": [
    "mod_authors = author_score[~(author_score['Renaissance'])][['author','ModernPrediction','RenaissancePrediction']].head()\n",
    "mod_authors"
   ]
  },
  {
   "cell_type": "code",
   "execution_count": 207,
   "id": "1128c60f",
   "metadata": {},
   "outputs": [
    {
     "data": {
      "text/html": [
       "<div>\n",
       "<style scoped>\n",
       "    .dataframe tbody tr th:only-of-type {\n",
       "        vertical-align: middle;\n",
       "    }\n",
       "\n",
       "    .dataframe tbody tr th {\n",
       "        vertical-align: top;\n",
       "    }\n",
       "\n",
       "    .dataframe thead th {\n",
       "        text-align: right;\n",
       "    }\n",
       "</style>\n",
       "<table border=\"1\" class=\"dataframe\">\n",
       "  <thead>\n",
       "    <tr style=\"text-align: right;\">\n",
       "      <th></th>\n",
       "      <th>author</th>\n",
       "      <th>Age</th>\n",
       "      <th>PredictionProbability</th>\n",
       "    </tr>\n",
       "  </thead>\n",
       "  <tbody>\n",
       "    <tr>\n",
       "      <th>0</th>\n",
       "      <td>WILLIAM SHAKESPEARE</td>\n",
       "      <td>ModernPrediction</td>\n",
       "      <td>0.046647</td>\n",
       "    </tr>\n",
       "    <tr>\n",
       "      <th>1</th>\n",
       "      <td>JOHN DONNE</td>\n",
       "      <td>ModernPrediction</td>\n",
       "      <td>0.032258</td>\n",
       "    </tr>\n",
       "    <tr>\n",
       "      <th>2</th>\n",
       "      <td>SIR PHILIP SIDNEY</td>\n",
       "      <td>ModernPrediction</td>\n",
       "      <td>0.012195</td>\n",
       "    </tr>\n",
       "    <tr>\n",
       "      <th>3</th>\n",
       "      <td>WILLIAM WORDSWORTH</td>\n",
       "      <td>ModernPrediction</td>\n",
       "      <td>0.150685</td>\n",
       "    </tr>\n",
       "    <tr>\n",
       "      <th>4</th>\n",
       "      <td>EDMUND SPENSER</td>\n",
       "      <td>ModernPrediction</td>\n",
       "      <td>0.000000</td>\n",
       "    </tr>\n",
       "    <tr>\n",
       "      <th>5</th>\n",
       "      <td>WILLIAM SHAKESPEARE</td>\n",
       "      <td>RenaissancePrediction</td>\n",
       "      <td>0.953353</td>\n",
       "    </tr>\n",
       "    <tr>\n",
       "      <th>6</th>\n",
       "      <td>JOHN DONNE</td>\n",
       "      <td>RenaissancePrediction</td>\n",
       "      <td>0.967742</td>\n",
       "    </tr>\n",
       "    <tr>\n",
       "      <th>7</th>\n",
       "      <td>SIR PHILIP SIDNEY</td>\n",
       "      <td>RenaissancePrediction</td>\n",
       "      <td>0.987805</td>\n",
       "    </tr>\n",
       "    <tr>\n",
       "      <th>8</th>\n",
       "      <td>WILLIAM WORDSWORTH</td>\n",
       "      <td>RenaissancePrediction</td>\n",
       "      <td>0.849315</td>\n",
       "    </tr>\n",
       "    <tr>\n",
       "      <th>9</th>\n",
       "      <td>EDMUND SPENSER</td>\n",
       "      <td>RenaissancePrediction</td>\n",
       "      <td>1.000000</td>\n",
       "    </tr>\n",
       "  </tbody>\n",
       "</table>\n",
       "</div>"
      ],
      "text/plain": [
       "                author                    Age  PredictionProbability\n",
       "0  WILLIAM SHAKESPEARE       ModernPrediction               0.046647\n",
       "1           JOHN DONNE       ModernPrediction               0.032258\n",
       "2    SIR PHILIP SIDNEY       ModernPrediction               0.012195\n",
       "3   WILLIAM WORDSWORTH       ModernPrediction               0.150685\n",
       "4       EDMUND SPENSER       ModernPrediction               0.000000\n",
       "5  WILLIAM SHAKESPEARE  RenaissancePrediction               0.953353\n",
       "6           JOHN DONNE  RenaissancePrediction               0.967742\n",
       "7    SIR PHILIP SIDNEY  RenaissancePrediction               0.987805\n",
       "8   WILLIAM WORDSWORTH  RenaissancePrediction               0.849315\n",
       "9       EDMUND SPENSER  RenaissancePrediction               1.000000"
      ]
     },
     "execution_count": 207,
     "metadata": {},
     "output_type": "execute_result"
    }
   ],
   "source": [
    "ren_authors = pd.melt(ren_authors, id_vars=\"author\", var_name=\"Age\", value_name=\"PredictionProbability\")\n",
    "ren_authors"
   ]
  },
  {
   "cell_type": "code",
   "execution_count": 208,
   "id": "3dec578a",
   "metadata": {},
   "outputs": [
    {
     "data": {
      "text/plain": [
       "'Modern'"
      ]
     },
     "execution_count": 208,
     "metadata": {},
     "output_type": "execute_result"
    }
   ],
   "source": [
    "'ModernPrediction'[:-10]"
   ]
  },
  {
   "cell_type": "code",
   "execution_count": 209,
   "id": "d8f9d98c",
   "metadata": {},
   "outputs": [],
   "source": [
    "ren_authors['Age'] = ren_authors['Age'].apply(lambda x: x[:-10])\n",
    "ren_authors['PredictionProbability'] = round(ren_authors['PredictionProbability']*100)"
   ]
  },
  {
   "cell_type": "code",
   "execution_count": 210,
   "id": "14ebd235",
   "metadata": {},
   "outputs": [
    {
     "data": {
      "text/html": [
       "<div>\n",
       "<style scoped>\n",
       "    .dataframe tbody tr th:only-of-type {\n",
       "        vertical-align: middle;\n",
       "    }\n",
       "\n",
       "    .dataframe tbody tr th {\n",
       "        vertical-align: top;\n",
       "    }\n",
       "\n",
       "    .dataframe thead th {\n",
       "        text-align: right;\n",
       "    }\n",
       "</style>\n",
       "<table border=\"1\" class=\"dataframe\">\n",
       "  <thead>\n",
       "    <tr style=\"text-align: right;\">\n",
       "      <th></th>\n",
       "      <th>author</th>\n",
       "      <th>Age</th>\n",
       "      <th>PredictionProbability</th>\n",
       "    </tr>\n",
       "  </thead>\n",
       "  <tbody>\n",
       "    <tr>\n",
       "      <th>0</th>\n",
       "      <td>WILLIAM SHAKESPEARE</td>\n",
       "      <td>Modern</td>\n",
       "      <td>5.0</td>\n",
       "    </tr>\n",
       "    <tr>\n",
       "      <th>1</th>\n",
       "      <td>JOHN DONNE</td>\n",
       "      <td>Modern</td>\n",
       "      <td>3.0</td>\n",
       "    </tr>\n",
       "    <tr>\n",
       "      <th>2</th>\n",
       "      <td>SIR PHILIP SIDNEY</td>\n",
       "      <td>Modern</td>\n",
       "      <td>1.0</td>\n",
       "    </tr>\n",
       "    <tr>\n",
       "      <th>3</th>\n",
       "      <td>WILLIAM WORDSWORTH</td>\n",
       "      <td>Modern</td>\n",
       "      <td>15.0</td>\n",
       "    </tr>\n",
       "    <tr>\n",
       "      <th>4</th>\n",
       "      <td>EDMUND SPENSER</td>\n",
       "      <td>Modern</td>\n",
       "      <td>0.0</td>\n",
       "    </tr>\n",
       "    <tr>\n",
       "      <th>5</th>\n",
       "      <td>WILLIAM SHAKESPEARE</td>\n",
       "      <td>Renaissance</td>\n",
       "      <td>95.0</td>\n",
       "    </tr>\n",
       "    <tr>\n",
       "      <th>6</th>\n",
       "      <td>JOHN DONNE</td>\n",
       "      <td>Renaissance</td>\n",
       "      <td>97.0</td>\n",
       "    </tr>\n",
       "    <tr>\n",
       "      <th>7</th>\n",
       "      <td>SIR PHILIP SIDNEY</td>\n",
       "      <td>Renaissance</td>\n",
       "      <td>99.0</td>\n",
       "    </tr>\n",
       "    <tr>\n",
       "      <th>8</th>\n",
       "      <td>WILLIAM WORDSWORTH</td>\n",
       "      <td>Renaissance</td>\n",
       "      <td>85.0</td>\n",
       "    </tr>\n",
       "    <tr>\n",
       "      <th>9</th>\n",
       "      <td>EDMUND SPENSER</td>\n",
       "      <td>Renaissance</td>\n",
       "      <td>100.0</td>\n",
       "    </tr>\n",
       "  </tbody>\n",
       "</table>\n",
       "</div>"
      ],
      "text/plain": [
       "                author          Age  PredictionProbability\n",
       "0  WILLIAM SHAKESPEARE       Modern                    5.0\n",
       "1           JOHN DONNE       Modern                    3.0\n",
       "2    SIR PHILIP SIDNEY       Modern                    1.0\n",
       "3   WILLIAM WORDSWORTH       Modern                   15.0\n",
       "4       EDMUND SPENSER       Modern                    0.0\n",
       "5  WILLIAM SHAKESPEARE  Renaissance                   95.0\n",
       "6           JOHN DONNE  Renaissance                   97.0\n",
       "7    SIR PHILIP SIDNEY  Renaissance                   99.0\n",
       "8   WILLIAM WORDSWORTH  Renaissance                   85.0\n",
       "9       EDMUND SPENSER  Renaissance                  100.0"
      ]
     },
     "execution_count": 210,
     "metadata": {},
     "output_type": "execute_result"
    }
   ],
   "source": [
    "ren_authors"
   ]
  },
  {
   "cell_type": "code",
   "execution_count": 216,
   "id": "f3881671",
   "metadata": {},
   "outputs": [
    {
     "data": {
      "image/png": "[encoded data removed]",
      "text/plain": [
       "<Figure size 636.625x500 with 1 Axes>"
      ]
     },
     "metadata": {},
     "output_type": "display_data"
    }
   ],
   "source": [
    "sns.catplot(data = ren_authors, x = 'author',y = 'PredictionProbability',hue = 'Age', kind = 'bar',\n",
    "           palette = 'PuOr')\n",
    "plt.xticks(rotation = 45)\n",
    "plt.show()"
   ]
  },
  {
   "cell_type": "code",
   "execution_count": 217,
   "id": "a98d30a4",
   "metadata": {},
   "outputs": [
    {
     "data": {
      "text/html": [
       "<div>\n",
       "<style scoped>\n",
       "    .dataframe tbody tr th:only-of-type {\n",
       "        vertical-align: middle;\n",
       "    }\n",
       "\n",
       "    .dataframe tbody tr th {\n",
       "        vertical-align: top;\n",
       "    }\n",
       "\n",
       "    .dataframe thead th {\n",
       "        text-align: right;\n",
       "    }\n",
       "</style>\n",
       "<table border=\"1\" class=\"dataframe\">\n",
       "  <thead>\n",
       "    <tr style=\"text-align: right;\">\n",
       "      <th></th>\n",
       "      <th>author</th>\n",
       "      <th>Age</th>\n",
       "      <th>PredictionProbability</th>\n",
       "    </tr>\n",
       "  </thead>\n",
       "  <tbody>\n",
       "    <tr>\n",
       "      <th>0</th>\n",
       "      <td>WALT WHITMAN</td>\n",
       "      <td>ModernPrediction</td>\n",
       "      <td>0.975000</td>\n",
       "    </tr>\n",
       "    <tr>\n",
       "      <th>1</th>\n",
       "      <td>PAUL LAURENCE DUNBAR</td>\n",
       "      <td>ModernPrediction</td>\n",
       "      <td>0.912281</td>\n",
       "    </tr>\n",
       "    <tr>\n",
       "      <th>2</th>\n",
       "      <td>LANGSTON HUGHES</td>\n",
       "      <td>ModernPrediction</td>\n",
       "      <td>1.000000</td>\n",
       "    </tr>\n",
       "    <tr>\n",
       "      <th>3</th>\n",
       "      <td>ROBERT FROST</td>\n",
       "      <td>ModernPrediction</td>\n",
       "      <td>0.980769</td>\n",
       "    </tr>\n",
       "    <tr>\n",
       "      <th>4</th>\n",
       "      <td>EMILY DICKINSON</td>\n",
       "      <td>ModernPrediction</td>\n",
       "      <td>0.970874</td>\n",
       "    </tr>\n",
       "    <tr>\n",
       "      <th>5</th>\n",
       "      <td>WALT WHITMAN</td>\n",
       "      <td>RenaissancePrediction</td>\n",
       "      <td>0.025000</td>\n",
       "    </tr>\n",
       "    <tr>\n",
       "      <th>6</th>\n",
       "      <td>PAUL LAURENCE DUNBAR</td>\n",
       "      <td>RenaissancePrediction</td>\n",
       "      <td>0.087719</td>\n",
       "    </tr>\n",
       "    <tr>\n",
       "      <th>7</th>\n",
       "      <td>LANGSTON HUGHES</td>\n",
       "      <td>RenaissancePrediction</td>\n",
       "      <td>0.000000</td>\n",
       "    </tr>\n",
       "    <tr>\n",
       "      <th>8</th>\n",
       "      <td>ROBERT FROST</td>\n",
       "      <td>RenaissancePrediction</td>\n",
       "      <td>0.019231</td>\n",
       "    </tr>\n",
       "    <tr>\n",
       "      <th>9</th>\n",
       "      <td>EMILY DICKINSON</td>\n",
       "      <td>RenaissancePrediction</td>\n",
       "      <td>0.029126</td>\n",
       "    </tr>\n",
       "  </tbody>\n",
       "</table>\n",
       "</div>"
      ],
      "text/plain": [
       "                 author                    Age  PredictionProbability\n",
       "0          WALT WHITMAN       ModernPrediction               0.975000\n",
       "1  PAUL LAURENCE DUNBAR       ModernPrediction               0.912281\n",
       "2       LANGSTON HUGHES       ModernPrediction               1.000000\n",
       "3          ROBERT FROST       ModernPrediction               0.980769\n",
       "4       EMILY DICKINSON       ModernPrediction               0.970874\n",
       "5          WALT WHITMAN  RenaissancePrediction               0.025000\n",
       "6  PAUL LAURENCE DUNBAR  RenaissancePrediction               0.087719\n",
       "7       LANGSTON HUGHES  RenaissancePrediction               0.000000\n",
       "8          ROBERT FROST  RenaissancePrediction               0.019231\n",
       "9       EMILY DICKINSON  RenaissancePrediction               0.029126"
      ]
     },
     "execution_count": 217,
     "metadata": {},
     "output_type": "execute_result"
    }
   ],
   "source": [
    "mod_authors = pd.melt(mod_authors, id_vars=\"author\", var_name=\"Age\", value_name=\"PredictionProbability\")\n",
    "mod_authors"
   ]
  },
  {
   "cell_type": "code",
   "execution_count": 218,
   "id": "8c5254c6",
   "metadata": {},
   "outputs": [
    {
     "data": {
      "text/plain": [
       "'Modern'"
      ]
     },
     "execution_count": 218,
     "metadata": {},
     "output_type": "execute_result"
    }
   ],
   "source": [
    "'ModernPrediction'[:-10]"
   ]
  },
  {
   "cell_type": "code",
   "execution_count": 219,
   "id": "75b1176c",
   "metadata": {},
   "outputs": [],
   "source": [
    "mod_authors['Age'] = mod_authors['Age'].apply(lambda x: x[:-10])\n",
    "mod_authors['PredictionProbability'] = round(mod_authors['PredictionProbability']*100)"
   ]
  },
  {
   "cell_type": "code",
   "execution_count": 220,
   "id": "9051b050",
   "metadata": {},
   "outputs": [
    {
     "data": {
      "text/html": [
       "<div>\n",
       "<style scoped>\n",
       "    .dataframe tbody tr th:only-of-type {\n",
       "        vertical-align: middle;\n",
       "    }\n",
       "\n",
       "    .dataframe tbody tr th {\n",
       "        vertical-align: top;\n",
       "    }\n",
       "\n",
       "    .dataframe thead th {\n",
       "        text-align: right;\n",
       "    }\n",
       "</style>\n",
       "<table border=\"1\" class=\"dataframe\">\n",
       "  <thead>\n",
       "    <tr style=\"text-align: right;\">\n",
       "      <th></th>\n",
       "      <th>author</th>\n",
       "      <th>Age</th>\n",
       "      <th>PredictionProbability</th>\n",
       "    </tr>\n",
       "  </thead>\n",
       "  <tbody>\n",
       "    <tr>\n",
       "      <th>0</th>\n",
       "      <td>WALT WHITMAN</td>\n",
       "      <td>Modern</td>\n",
       "      <td>98.0</td>\n",
       "    </tr>\n",
       "    <tr>\n",
       "      <th>1</th>\n",
       "      <td>PAUL LAURENCE DUNBAR</td>\n",
       "      <td>Modern</td>\n",
       "      <td>91.0</td>\n",
       "    </tr>\n",
       "    <tr>\n",
       "      <th>2</th>\n",
       "      <td>LANGSTON HUGHES</td>\n",
       "      <td>Modern</td>\n",
       "      <td>100.0</td>\n",
       "    </tr>\n",
       "    <tr>\n",
       "      <th>3</th>\n",
       "      <td>ROBERT FROST</td>\n",
       "      <td>Modern</td>\n",
       "      <td>98.0</td>\n",
       "    </tr>\n",
       "    <tr>\n",
       "      <th>4</th>\n",
       "      <td>EMILY DICKINSON</td>\n",
       "      <td>Modern</td>\n",
       "      <td>97.0</td>\n",
       "    </tr>\n",
       "    <tr>\n",
       "      <th>5</th>\n",
       "      <td>WALT WHITMAN</td>\n",
       "      <td>Renaissance</td>\n",
       "      <td>3.0</td>\n",
       "    </tr>\n",
       "    <tr>\n",
       "      <th>6</th>\n",
       "      <td>PAUL LAURENCE DUNBAR</td>\n",
       "      <td>Renaissance</td>\n",
       "      <td>9.0</td>\n",
       "    </tr>\n",
       "    <tr>\n",
       "      <th>7</th>\n",
       "      <td>LANGSTON HUGHES</td>\n",
       "      <td>Renaissance</td>\n",
       "      <td>0.0</td>\n",
       "    </tr>\n",
       "    <tr>\n",
       "      <th>8</th>\n",
       "      <td>ROBERT FROST</td>\n",
       "      <td>Renaissance</td>\n",
       "      <td>2.0</td>\n",
       "    </tr>\n",
       "    <tr>\n",
       "      <th>9</th>\n",
       "      <td>EMILY DICKINSON</td>\n",
       "      <td>Renaissance</td>\n",
       "      <td>3.0</td>\n",
       "    </tr>\n",
       "  </tbody>\n",
       "</table>\n",
       "</div>"
      ],
      "text/plain": [
       "                 author          Age  PredictionProbability\n",
       "0          WALT WHITMAN       Modern                   98.0\n",
       "1  PAUL LAURENCE DUNBAR       Modern                   91.0\n",
       "2       LANGSTON HUGHES       Modern                  100.0\n",
       "3          ROBERT FROST       Modern                   98.0\n",
       "4       EMILY DICKINSON       Modern                   97.0\n",
       "5          WALT WHITMAN  Renaissance                    3.0\n",
       "6  PAUL LAURENCE DUNBAR  Renaissance                    9.0\n",
       "7       LANGSTON HUGHES  Renaissance                    0.0\n",
       "8          ROBERT FROST  Renaissance                    2.0\n",
       "9       EMILY DICKINSON  Renaissance                    3.0"
      ]
     },
     "execution_count": 220,
     "metadata": {},
     "output_type": "execute_result"
    }
   ],
   "source": [
    "mod_authors"
   ]
  },
  {
   "cell_type": "code",
   "execution_count": 221,
   "id": "7fa0c897",
   "metadata": {},
   "outputs": [
    {
     "data": {
      "image/png": "[encoded data removed]",
      "text/plain": [
       "<Figure size 636.625x500 with 1 Axes>"
      ]
     },
     "metadata": {},
     "output_type": "display_data"
    }
   ],
   "source": [
    "sns.catplot(data = mod_authors, x = 'author',y = 'PredictionProbability',hue = 'Age', kind = 'bar',\n",
    "           palette = 'PuOr')\n",
    "plt.xticks(rotation = 45)\n",
    "plt.show()"
   ]
  },
  {
   "cell_type": "code",
   "execution_count": null,
   "id": "495ab803",
   "metadata": {},
   "outputs": [],
   "source": []
  }
 ],
 "metadata": {
  "kernelspec": {
   "display_name": "Python 3 (ipykernel)",
   "language": "python",
   "name": "python3"
  },
  "language_info": {
   "codemirror_mode": {
    "name": "ipython",
    "version": 3
   },
   "file_extension": ".py",
   "mimetype": "text/x-python",
   "name": "python",
   "nbconvert_exporter": "python",
   "pygments_lexer": "ipython3",
   "version": "3.11.4"
  }
 },
 "nbformat": 4,
 "nbformat_minor": 5
}
